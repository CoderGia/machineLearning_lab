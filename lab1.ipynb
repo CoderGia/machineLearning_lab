{
 "cells": [
  {
   "cell_type": "code",
   "execution_count": 2,
   "outputs": [],
   "source": [
    "from nltk.stem.snowball import RussianStemmer\n",
    "from nltk.tokenize import word_tokenize\n",
    "from string import punctuation"
   ],
   "metadata": {
    "collapsed": false
   }
  },
  {
   "cell_type": "code",
   "execution_count": 3,
   "outputs": [],
   "source": [
    "file = open('test.txt', 'r+', encoding='utf-8')\n",
    "text = file.read()"
   ],
   "metadata": {
    "collapsed": false
   }
  },
  {
   "cell_type": "code",
   "execution_count": 9,
   "outputs": [],
   "source": [
    "import re\n",
    "from pymorphy2 import MorphAnalyzer\n",
    "from nltk.corpus import stopwords\n",
    "\n",
    "patterns = \"[!#$%&'()*+,./:;<=>?@[\\]^_`{|}~—\\\"\\-]+\"\n",
    "stopwords_ru = stopwords.words(\"russian\")\n",
    "morph = MorphAnalyzer()\n",
    "\n",
    "\n",
    "def text_preprocess_re(raw_text):\n",
    "    raw_text = re.sub(patterns, ' ', raw_text)  #Удалить знаки препинания\n",
    "    tokens = []\n",
    "    for token in raw_text.split():  # Разделить абзац на список слов\n",
    "        token = token.lower()  # Преобразуем слова в нижний регистр\n",
    "        if token not in stopwords_ru:  # удаление стоп-слов и лемматизация\n",
    "            token = token.strip()\n",
    "            token = morph.normal_forms(token)[0]\n",
    "\n",
    "            tokens.append(token)\n",
    "\n",
    "    return tokens"
   ],
   "metadata": {
    "collapsed": false
   }
  },
  {
   "cell_type": "code",
   "execution_count": 12,
   "outputs": [],
   "source": [
    "def text_preprocess(raw_text):\n",
    "    punctuations = list(punctuation)\n",
    "    # stemmer = RussianStemmer(True)\n",
    "    tokens = word_tokenize(raw_text)\n",
    "    words_without_punkt = [i for i in tokens if (i not in punctuations)]  # Удалить знаки препинания\n",
    "    low_words = [i.lower() for i in words_without_punkt]  # Преобразуем слова в нижний регистр\n",
    "    words_without_stop = [i for i in low_words if (i not in stopwords.words('russian'))]  # удаление стоп-слов\n",
    "    lem = [morph.parse(i)[0].normal_form for i in words_without_stop]  # лемматизация\n",
    "    # stem_words = [stemmer.stem(i) for i in words_without_stop]\n",
    "\n",
    "    return lem\n"
   ],
   "metadata": {
    "collapsed": false
   }
  },
  {
   "cell_type": "code",
   "execution_count": 13,
   "outputs": [
    {
     "name": "stdout",
     "output_type": "stream",
     "text": [
      "['предложить', 'разделить', '70000', 'два', 'часть', 'первый', 'часть', 'оставить', '60000', 'обучение', 'второй', 'часть', '10000', 'тестирование', 'необходимость', 'такой', 'подход', 'вызвать', 'следующий', 'факт', 'модель', 'обучить', '60000', 'экземпляр', 'необходимо', 'проверить', 'результат', 'эффективность', 'её', 'работа', 'такой', 'пример', 'который', 'ещё', 'набор', 'данные', 'который', 'модель', 'обучаться', 'свой', 'род', 'это', 'напоминать', 'сдача', 'экзамен', 'школа', 'сдавать', 'экзамен', 'усердно', 'заниматься', 'решать', 'задача', 'определённый', 'класс', 'затем', 'экзамен', 'сталкиваться', 'такой', 'класс', 'задача', 'другой', 'входной', 'данные', 'подавать', 'вход', 'тот', 'дать', 'который', 'время', 'тренировка', 'смысл', 'иначе', 'задача', 'свестись', 'запоминание', 'решение', 'поиск', 'модель', 'решение', 'именно', 'поэтому', 'экзамен', 'сталкиваться', 'такой', 'задача', 'который', 'ранее', 'обучать', 'программа', 'такой', 'образ', 'проверить', 'обучиться', 'модель', 'общий', 'решение'] \n",
      "\n",
      "['предложить', 'разделить', '70000', 'два', 'часть', 'первый', 'часть', 'оставить', '60000', 'обучение', 'второй', 'часть', '10000', 'тестирование', 'необходимость', 'такой', 'подход', 'вызвать', 'следующий', 'факт', 'модель', 'обучить', '60000', 'экземпляр', 'необходимо', 'проверить', 'результат', 'эффективность', 'её', 'работа', 'такой', 'пример', 'который', 'ещё', 'набор', 'данные', 'который', 'модель', 'обучаться', 'свой', 'род', 'это', 'напоминать', 'сдача', 'экзамен', 'школа', 'сдавать', 'экзамен', 'усердно', 'заниматься', 'решать', 'задача', 'определённый', 'класс', 'затем', 'экзамен', 'сталкиваться', 'такой', 'класс', 'задача', 'другой', 'входной', 'данные', 'подавать', 'вход', 'тот', 'дать', 'который', 'время', 'тренировка', 'смысл', 'иначе', 'задача', 'свестись', 'запоминание', 'решение', 'поиск', 'модель', 'решение', 'именно', 'поэтому', 'экзамен', 'сталкиваться', 'такой', 'задача', 'который', 'ранее', 'обучать', 'программа', 'такой', 'образ', 'проверить', 'обучиться', 'модель', 'общий', 'решение']\n"
     ]
    }
   ],
   "source": [
    "print(text_preprocess(text), \"\\n\")\n",
    "print(text_preprocess_re(text))"
   ],
   "metadata": {
    "collapsed": false
   }
  },
  {
   "cell_type": "code",
   "execution_count": 14,
   "outputs": [
    {
     "name": "stdout",
     "output_type": "stream",
     "text": [
      "1.9727239608764648\n"
     ]
    }
   ],
   "source": [
    "import time\n",
    "\n",
    "start = time.time()\n",
    "n = 0\n",
    "while n < 100:\n",
    "    text_preprocess_re(text)\n",
    "    n += 1\n",
    "end = time.time()\n",
    "print(end - start)"
   ],
   "metadata": {
    "collapsed": false
   }
  },
  {
   "cell_type": "code",
   "execution_count": 15,
   "outputs": [
    {
     "name": "stdout",
     "output_type": "stream",
     "text": [
      "4.903883457183838\n"
     ]
    }
   ],
   "source": [
    "st = time.time()\n",
    "i = 0\n",
    "while i < 100:\n",
    "    text_preprocess(raw_text=text)\n",
    "    i += 1\n",
    "en = time.time()\n",
    "print(en - st)"
   ],
   "metadata": {
    "collapsed": false
   }
  },
  {
   "cell_type": "code",
   "execution_count": null,
   "outputs": [],
   "source": [],
   "metadata": {
    "collapsed": false
   }
  }
 ],
 "metadata": {
  "kernelspec": {
   "display_name": "Python 3.9.13 ('pye1')",
   "language": "python",
   "name": "python3"
  },
  "language_info": {
   "codemirror_mode": {
    "name": "ipython",
    "version": 3
   },
   "file_extension": ".py",
   "mimetype": "text/x-python",
   "name": "python",
   "nbconvert_exporter": "python",
   "pygments_lexer": "ipython3",
   "version": "3.9.15"
  },
  "orig_nbformat": 4,
  "vscode": {
   "interpreter": {
    "hash": "70b2b003f71a47789ef5253a9d2c8e5c80fab8c3caf439df4c585559942f6721"
   }
  }
 },
 "nbformat": 4,
 "nbformat_minor": 2
}
