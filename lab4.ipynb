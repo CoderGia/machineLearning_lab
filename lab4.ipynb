{
 "cells": [
  {
   "cell_type": "code",
   "execution_count": 22,
   "metadata": {
    "collapsed": true
   },
   "outputs": [],
   "source": [
    "import pandas as pd\n",
    "import numpy as np\n"
   ]
  },
  {
   "cell_type": "code",
   "execution_count": 23,
   "outputs": [],
   "source": [
    "split_data = pd.read_csv(\"split_data_with_sentiments.csv\")\n",
    "X_bow = pd.read_csv(\"X_bow.csv\")\n",
    "X_tfidf = pd.read_csv(\"X_tfidf.csv\")\n",
    "X_dict = pd.read_csv(\"X_dict.csv\")"
   ],
   "metadata": {
    "collapsed": false
   }
  },
  {
   "cell_type": "code",
   "execution_count": 24,
   "outputs": [
    {
     "name": "stdout",
     "output_type": "stream",
     "text": [
      "(4992, 9549)\n"
     ]
    }
   ],
   "source": [
    "print(X_tfidf.shape)"
   ],
   "metadata": {
    "collapsed": false
   }
  },
  {
   "cell_type": "code",
   "execution_count": 25,
   "outputs": [],
   "source": [
    "y = split_data['ttype']"
   ],
   "metadata": {
    "collapsed": false
   }
  },
  {
   "cell_type": "markdown",
   "source": [
    "1 Разделить текстовый корпус Рубцовой на обучающий и тестовый наборы"
   ],
   "metadata": {
    "collapsed": false
   }
  },
  {
   "cell_type": "code",
   "execution_count": 26,
   "outputs": [
    {
     "name": "stdout",
     "output_type": "stream",
     "text": [
      "(3494, 9549) (3494,)\n",
      "(1498, 9549) (1498,)\n"
     ]
    }
   ],
   "source": [
    "from sklearn.model_selection import train_test_split\n",
    "X_train, X_test, y_train, y_test = train_test_split(X_tfidf, y,test_size=0.3, random_state=42)\n",
    "print(X_train.shape, y_train.shape)\n",
    "print(X_test.shape, y_test.shape)"
   ],
   "metadata": {
    "collapsed": false
   }
  },
  {
   "cell_type": "markdown",
   "source": [
    "2 Используя текстовые вектора из лр2, построить линейную регрессию, регрессию со штрафом (L1, L2 и L1+L2) и полиномиальную регрессию"
   ],
   "metadata": {
    "collapsed": false
   }
  },
  {
   "cell_type": "markdown",
   "source": [
    "Построить линейную регрессию"
   ],
   "metadata": {
    "collapsed": false
   }
  },
  {
   "cell_type": "code",
   "execution_count": 27,
   "outputs": [
    {
     "data": {
      "text/plain": "array([-9.76380317e+11,  3.98380765e+12,  1.31966874e+12, ...,\n        0.00000000e+00,  0.00000000e+00,  2.19379385e+12])"
     },
     "execution_count": 27,
     "metadata": {},
     "output_type": "execute_result"
    }
   ],
   "source": [
    "from sklearn.linear_model import LinearRegression\n",
    "linear = LinearRegression()\n",
    "linear.fit(X_train, y_train)\n",
    "linear.coef_"
   ],
   "metadata": {
    "collapsed": false
   }
  },
  {
   "cell_type": "markdown",
   "source": [
    "Построить регрессию со штрафом L1"
   ],
   "metadata": {
    "collapsed": false
   }
  },
  {
   "cell_type": "code",
   "execution_count": 28,
   "outputs": [
    {
     "data": {
      "text/plain": "array([0., 0., 0., ..., 0., 0., 0.])"
     },
     "execution_count": 28,
     "metadata": {},
     "output_type": "execute_result"
    }
   ],
   "source": [
    "from sklearn.linear_model import Lasso\n",
    "lasso = Lasso(alpha=0.1)\n",
    "lasso.fit(X_train, y_train)\n",
    "lasso.coef_"
   ],
   "metadata": {
    "collapsed": false
   }
  },
  {
   "cell_type": "markdown",
   "source": [
    "Построить регрессию со штрафом L2"
   ],
   "metadata": {
    "collapsed": false
   }
  },
  {
   "cell_type": "code",
   "execution_count": 29,
   "outputs": [
    {
     "data": {
      "text/plain": "array([0.23230708, 0.23880033, 0.0424824 , ..., 0.        , 0.        ,\n       0.06763839])"
     },
     "execution_count": 29,
     "metadata": {},
     "output_type": "execute_result"
    }
   ],
   "source": [
    "from sklearn.linear_model import Ridge\n",
    "ridge = Ridge(alpha=1.0)\n",
    "ridge.fit(X_train, y_train)\n",
    "ridge.coef_"
   ],
   "metadata": {
    "collapsed": false
   }
  },
  {
   "cell_type": "markdown",
   "source": [
    "Построить регрессию со штрафом L1+L2"
   ],
   "metadata": {
    "collapsed": false
   }
  },
  {
   "cell_type": "code",
   "execution_count": 30,
   "outputs": [
    {
     "data": {
      "text/plain": "array([0., 0., 0., ..., 0., 0., 0.])"
     },
     "execution_count": 30,
     "metadata": {},
     "output_type": "execute_result"
    }
   ],
   "source": [
    "from sklearn.linear_model import ElasticNet\n",
    "elastic = ElasticNet(random_state=0)\n",
    "elastic.fit(X_train, y_train)\n",
    "elastic.coef_"
   ],
   "metadata": {
    "collapsed": false
   }
  },
  {
   "cell_type": "markdown",
   "source": [
    "3 Вычислить точность работы моделей (MSE, R2) и сравнить результаты"
   ],
   "metadata": {
    "collapsed": false
   }
  },
  {
   "cell_type": "code",
   "execution_count": null,
   "outputs": [],
   "source": [
    "from sklearn.metrics import mean_squared_error\n",
    "from sklearn.metrics import r2_score"
   ],
   "metadata": {
    "collapsed": false
   }
  },
  {
   "cell_type": "markdown",
   "source": [
    "Линейная регрессия"
   ],
   "metadata": {
    "collapsed": false
   }
  },
  {
   "cell_type": "code",
   "execution_count": 31,
   "outputs": [
    {
     "name": "stdout",
     "output_type": "stream",
     "text": [
      "3.624718007926536e+24\n",
      "-3.6275696217439607e+24\n"
     ]
    }
   ],
   "source": [
    "linear_predictions = linear.predict(X_test)\n",
    "print(mean_squared_error(y_test, linear_predictions))\n",
    "print(r2_score(y_test, linear_predictions))"
   ],
   "metadata": {
    "collapsed": false
   }
  },
  {
   "cell_type": "markdown",
   "source": [
    "Регрессия со штрафом L1"
   ],
   "metadata": {
    "collapsed": false
   }
  },
  {
   "cell_type": "code",
   "execution_count": 32,
   "outputs": [
    {
     "name": "stdout",
     "output_type": "stream",
     "text": [
      "1.0003154196306112\n",
      "-0.0011023810621386687\n"
     ]
    }
   ],
   "source": [
    "lasso_predictions = lasso.predict(X_test)\n",
    "print(mean_squared_error(y_test, lasso_predictions))\n",
    "print(r2_score(y_test, lasso_predictions))"
   ],
   "metadata": {
    "collapsed": false
   }
  },
  {
   "cell_type": "markdown",
   "source": [
    "Регрессия со штрафом L2"
   ],
   "metadata": {
    "collapsed": false
   }
  },
  {
   "cell_type": "code",
   "execution_count": 33,
   "outputs": [
    {
     "name": "stdout",
     "output_type": "stream",
     "text": [
      "0.8907432646870278\n",
      "0.10855597575159248\n"
     ]
    }
   ],
   "source": [
    "ridge_predictions = ridge.predict(X_test)\n",
    "print(mean_squared_error(y_test, ridge_predictions))\n",
    "print(r2_score(y_test, ridge_predictions))"
   ],
   "metadata": {
    "collapsed": false
   }
  },
  {
   "cell_type": "markdown",
   "source": [
    "Регрессия со штрафом L1+L2"
   ],
   "metadata": {
    "collapsed": false
   }
  },
  {
   "cell_type": "code",
   "execution_count": 34,
   "outputs": [
    {
     "name": "stdout",
     "output_type": "stream",
     "text": [
      "1.0003154196306112\n",
      "-0.0011023810621386687\n"
     ]
    }
   ],
   "source": [
    "elastic_predictions = elastic.predict(X_test)\n",
    "print(mean_squared_error(y_test, elastic_predictions))\n",
    "print(r2_score(y_test, elastic_predictions))"
   ],
   "metadata": {
    "collapsed": false
   }
  },
  {
   "cell_type": "markdown",
   "source": [
    "Построить полиномиальную регрессию"
   ],
   "metadata": {
    "collapsed": false
   }
  },
  {
   "cell_type": "code",
   "execution_count": 35,
   "outputs": [
    {
     "data": {
      "text/plain": "array([ 3.08156470e+11, -1.02782376e+12,  7.99332524e+11, ...,\n        0.00000000e+00,  0.00000000e+00,  1.71379597e+12])"
     },
     "execution_count": 35,
     "metadata": {},
     "output_type": "execute_result"
    }
   ],
   "source": [
    "from sklearn.preprocessing import PolynomialFeatures\n",
    "poly = PolynomialFeatures(degree=1)\n",
    "X_train_poly = poly.fit_transform(X_train)\n",
    "X_test_poly = poly.fit_transform(X_test)\n",
    "linear.fit(X_train_poly,y_train)\n",
    "linear.coef_"
   ],
   "metadata": {
    "collapsed": false
   }
  },
  {
   "cell_type": "code",
   "execution_count": 36,
   "outputs": [
    {
     "name": "stdout",
     "output_type": "stream",
     "text": [
      "8.033397518692925e+24\n",
      "-8.039717499258331e+24\n"
     ]
    }
   ],
   "source": [
    "poly_predictions = linear.predict(X_test_poly)\n",
    "print(mean_squared_error(y_test, poly_predictions))\n",
    "print(r2_score(y_test, poly_predictions))"
   ],
   "metadata": {
    "collapsed": false
   }
  },
  {
   "cell_type": "markdown",
   "source": [
    "4 Уменьшить размерность признаков и проделать пункт 2 и 3"
   ],
   "metadata": {
    "collapsed": false
   }
  },
  {
   "cell_type": "code",
   "execution_count": 37,
   "outputs": [
    {
     "name": "stdout",
     "output_type": "stream",
     "text": [
      "(4992, 5)\n"
     ]
    }
   ],
   "source": [
    "from sklearn.decomposition import PCA\n",
    "pca = PCA(n_components=5)\n",
    "X_tfidf = pca.fit_transform(X_tfidf)\n",
    "print(X_tfidf.shape)"
   ],
   "metadata": {
    "collapsed": false
   }
  },
  {
   "cell_type": "code",
   "execution_count": 38,
   "outputs": [
    {
     "name": "stdout",
     "output_type": "stream",
     "text": [
      "(3494, 9549)\n",
      "(1498, 9549)\n"
     ]
    }
   ],
   "source": [
    "X_train_, X_test_, y_train_, y_test_ = train_test_split(X_tfidf, y, test_size=0.3, random_state=42)\n",
    "print(X_train.shape)\n",
    "print(X_test.shape)"
   ],
   "metadata": {
    "collapsed": false
   }
  },
  {
   "cell_type": "code",
   "execution_count": 39,
   "outputs": [
    {
     "name": "stdout",
     "output_type": "stream",
     "text": [
      "0.9917594690184746\n",
      "0.007460300630025007\n"
     ]
    }
   ],
   "source": [
    "linear.fit(X_train_, y_train_)\n",
    "linear_pred = linear.predict(X_test_)\n",
    "print(mean_squared_error(y_test_, linear_pred))\n",
    "print(r2_score(y_test_, linear_pred))"
   ],
   "metadata": {
    "collapsed": false
   }
  },
  {
   "cell_type": "code",
   "execution_count": 40,
   "outputs": [
    {
     "name": "stdout",
     "output_type": "stream",
     "text": [
      "1.0003154196306112\n",
      "-0.0011023810621386687\n"
     ]
    }
   ],
   "source": [
    "lasso.fit(X_train_, y_train_)\n",
    "lasso_pred = lasso.predict(X_test_)\n",
    "print(mean_squared_error(y_test_, lasso_pred))\n",
    "print(r2_score(y_test_, lasso_pred))"
   ],
   "metadata": {
    "collapsed": false
   }
  },
  {
   "cell_type": "code",
   "execution_count": 41,
   "outputs": [
    {
     "name": "stdout",
     "output_type": "stream",
     "text": [
      "0.9907009056883177\n",
      "0.00851969674601838\n"
     ]
    }
   ],
   "source": [
    "ridge.fit(X_train_, y_train_)\n",
    "ridge_pred = ridge.predict(X_test_)\n",
    "print(mean_squared_error(y_test_, ridge_pred))\n",
    "print(r2_score(y_test_, ridge_pred))"
   ],
   "metadata": {
    "collapsed": false
   }
  },
  {
   "cell_type": "code",
   "execution_count": 42,
   "outputs": [
    {
     "name": "stdout",
     "output_type": "stream",
     "text": [
      "1.0003154196306112\n",
      "-0.0011023810621386687\n"
     ]
    }
   ],
   "source": [
    "elastic.fit(X_train_, y_train_)\n",
    "elastic_pred = elastic.predict(X_test_)\n",
    "print(mean_squared_error(y_test_, elastic_pred))\n",
    "print(r2_score(y_test_, elastic_pred))"
   ],
   "metadata": {
    "collapsed": false
   }
  },
  {
   "cell_type": "code",
   "execution_count": 43,
   "outputs": [
    {
     "name": "stdout",
     "output_type": "stream",
     "text": [
      "0.9943468512759541\n",
      "0.004870882844545621\n"
     ]
    }
   ],
   "source": [
    "from sklearn.preprocessing import PolynomialFeatures\n",
    "poly = PolynomialFeatures(degree=2)\n",
    "X_train_poly_ = poly.fit_transform(X_train_)\n",
    "X_test_poly_ = poly.fit_transform(X_test_)\n",
    "linear.fit(X_train_poly_,y_train_)\n",
    "linear_pred = linear.predict(X_test_poly_)\n",
    "print(mean_squared_error(y_test_, linear_pred))\n",
    "print(r2_score(y_test_, linear_pred))"
   ],
   "metadata": {
    "collapsed": false
   }
  },
  {
   "cell_type": "code",
   "execution_count": null,
   "outputs": [],
   "source": [],
   "metadata": {
    "collapsed": false
   }
  }
 ],
 "metadata": {
  "kernelspec": {
   "display_name": "Python 3",
   "language": "python",
   "name": "python3"
  },
  "language_info": {
   "codemirror_mode": {
    "name": "ipython",
    "version": 2
   },
   "file_extension": ".py",
   "mimetype": "text/x-python",
   "name": "python",
   "nbconvert_exporter": "python",
   "pygments_lexer": "ipython2",
   "version": "2.7.6"
  }
 },
 "nbformat": 4,
 "nbformat_minor": 0
}
