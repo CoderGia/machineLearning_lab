{
 "cells": [
  {
   "cell_type": "code",
   "execution_count": 2,
   "metadata": {
    "collapsed": true
   },
   "outputs": [],
   "source": [
    "import pandas as pd"
   ]
  },
  {
   "cell_type": "code",
   "execution_count": 3,
   "outputs": [],
   "source": [
    "X_tfidf = pd.read_csv('X_tfidf.csv')\n",
    "split_data = pd.read_csv('split_data_with_sentiments.csv')"
   ],
   "metadata": {
    "collapsed": false
   }
  },
  {
   "cell_type": "code",
   "execution_count": 4,
   "outputs": [],
   "source": [
    "from sklearn.decomposition import PCA\n",
    "pca = PCA(n_components=5)\n",
    "X = pca.fit_transform(X_tfidf)\n",
    "y = split_data[\"ttype\"]"
   ],
   "metadata": {
    "collapsed": false
   }
  },
  {
   "cell_type": "code",
   "execution_count": 5,
   "outputs": [
    {
     "name": "stdout",
     "output_type": "stream",
     "text": [
      "(3993, 5)\n",
      "(999, 5)\n"
     ]
    }
   ],
   "source": [
    "from sklearn.model_selection import train_test_split\n",
    "X_train, X_test, y_train, y_test = train_test_split(X, y, test_size=0.2, random_state=42)\n",
    "print(X_train.shape)\n",
    "print(X_test.shape)"
   ],
   "metadata": {
    "collapsed": false
   }
  },
  {
   "cell_type": "code",
   "execution_count": 10,
   "outputs": [
    {
     "name": "stdout",
     "output_type": "stream",
     "text": [
      "              precision    recall  f1-score   support\n",
      "\n",
      "          -1       0.56      0.33      0.42       484\n",
      "           1       0.55      0.76      0.64       515\n",
      "\n",
      "    accuracy                           0.55       999\n",
      "   macro avg       0.56      0.54      0.53       999\n",
      "weighted avg       0.56      0.55      0.53       999\n",
      "\n"
     ]
    }
   ],
   "source": [
    "from sklearn.svm import SVC\n",
    "from sklearn.linear_model import LogisticRegression\n",
    "from sklearn.tree import DecisionTreeClassifier\n",
    "from sklearn.ensemble import VotingClassifier\n",
    "from sklearn.metrics import classification_report\n",
    "\n",
    "clf1 = LogisticRegression(multi_class='multinomial', random_state=42)\n",
    "clf2 = DecisionTreeClassifier(criterion='entropy', max_depth=5, min_samples_split=2)\n",
    "clf3 = SVC(random_state=42, probability=True)\n",
    "estimators = [('lr', clf1), ('dt', clf2), ('svc', clf3)]\n",
    "vc = VotingClassifier(estimators=estimators, voting='hard')\n",
    "vc.fit(X_train,y_train)\n",
    "vc_pred = vc.predict(X_test)\n",
    "print(classification_report(y_test, vc_pred))"
   ],
   "metadata": {
    "collapsed": false
   }
  },
  {
   "cell_type": "code",
   "execution_count": 8,
   "outputs": [
    {
     "name": "stdout",
     "output_type": "stream",
     "text": [
      "              precision    recall  f1-score   support\n",
      "\n",
      "          -1       0.57      0.32      0.41       484\n",
      "           1       0.55      0.77      0.64       515\n",
      "\n",
      "    accuracy                           0.55       999\n",
      "   macro avg       0.56      0.55      0.52       999\n",
      "weighted avg       0.56      0.55      0.53       999\n",
      "\n"
     ]
    }
   ],
   "source": [
    "from sklearn.ensemble import BaggingClassifier\n",
    "bag = BaggingClassifier(base_estimator=SVC(), n_estimators=10, random_state=42).fit(X_train, y_train)\n",
    "bag_pred = bag.predict(X_test)\n",
    "print(classification_report(y_test, bag_pred))\n"
   ],
   "metadata": {
    "collapsed": false
   }
  },
  {
   "cell_type": "code",
   "execution_count": 9,
   "outputs": [
    {
     "name": "stdout",
     "output_type": "stream",
     "text": [
      "              precision    recall  f1-score   support\n",
      "\n",
      "          -1       0.54      0.50      0.52       484\n",
      "           1       0.56      0.59      0.57       515\n",
      "\n",
      "    accuracy                           0.55       999\n",
      "   macro avg       0.55      0.55      0.55       999\n",
      "weighted avg       0.55      0.55      0.55       999\n",
      "\n"
     ]
    }
   ],
   "source": [
    "from sklearn.ensemble import AdaBoostClassifier\n",
    "ada_boost = AdaBoostClassifier(n_estimators=100, random_state=42) # decision tree classifiers by default\n",
    "ada_boost.fit(X_train, y_train)\n",
    "y_pred = ada_boost.predict(X_test)\n",
    "print(classification_report(y_test, y_pred))"
   ],
   "metadata": {
    "collapsed": false
   }
  },
  {
   "cell_type": "code",
   "execution_count": 11,
   "outputs": [
    {
     "name": "stdout",
     "output_type": "stream",
     "text": [
      "              precision    recall  f1-score   support\n",
      "\n",
      "          -1       0.55      0.44      0.49       484\n",
      "           1       0.56      0.67      0.61       515\n",
      "\n",
      "    accuracy                           0.56       999\n",
      "   macro avg       0.56      0.55      0.55       999\n",
      "weighted avg       0.56      0.56      0.55       999\n",
      "\n"
     ]
    }
   ],
   "source": [
    "from sklearn.ensemble import StackingClassifier\n",
    "stacking = StackingClassifier(estimators=estimators, final_estimator=LogisticRegression())\n",
    "stacking.fit(X_train, y_train)\n",
    "y_pred = stacking.predict(X_test)\n",
    "print(classification_report(y_test, y_pred))"
   ],
   "metadata": {
    "collapsed": false
   }
  }
 ],
 "metadata": {
  "kernelspec": {
   "display_name": "Python 3",
   "language": "python",
   "name": "python3"
  },
  "language_info": {
   "codemirror_mode": {
    "name": "ipython",
    "version": 2
   },
   "file_extension": ".py",
   "mimetype": "text/x-python",
   "name": "python",
   "nbconvert_exporter": "python",
   "pygments_lexer": "ipython2",
   "version": "2.7.6"
  }
 },
 "nbformat": 4,
 "nbformat_minor": 0
}
