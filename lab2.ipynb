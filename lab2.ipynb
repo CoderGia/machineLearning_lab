{
 "cells": [
  {
   "cell_type": "code",
   "execution_count": 1,
   "metadata": {},
   "outputs": [],
   "source": [
    "import pandas as pd\n",
    "import matplotlib.pyplot as plt\n",
    "from nltk.tokenize import word_tokenize"
   ]
  },
  {
   "cell_type": "markdown",
   "metadata": {},
   "source": [
    "1 Загрузить корпус текстовых данных с помощью DataFrame. Проверить пропущенные значения. Вычислить среднюю, медиану и моду."
   ]
  },
  {
   "cell_type": "code",
   "execution_count": 88,
   "metadata": {},
   "outputs": [
    {
     "data": {
      "text/plain": "                        id       tdate            tname  \\\n0       408906762813579264  1386325944  dugarchikbellko   \n1       408906818262687744  1386325957     nugemycejela   \n2       408906858515398656  1386325966          4post21   \n3       408906914437685248  1386325980         Poliwake   \n4       408906914723295232  1386325980       capyvixowe   \n...                    ...         ...              ...   \n114906  411368729235054592  1386912922     diminlisenok   \n114907  411368729424187392  1386912922     qilepocagotu   \n114908  411368796537257984  1386912938       DennyChooo   \n114909  411368797447417856  1386912938      bedowabymir   \n114910  411368857035898880  1386912953  Prituljak_Sibir   \n\n                                                    ttext  ttype  trep  trtw  \\\n0       на работе был полный пиддес :| и так каждое за...     -1     0     0   \n1       Коллеги сидят рубятся в Urban terror, а я из-з...     -1     0     0   \n2       @elina_4post как говорят обещаного три года жд...     -1     0     0   \n3       Желаю хорошего полёта и удачной посадки,я буду...     -1     0     0   \n4       Обновил за каким-то лешим surf, теперь не рабо...     -1     0     0   \n...                                                   ...    ...   ...   ...   \n114906  Спала в родительском доме, на своей кровати......      1     0     0   \n114907  RT @jebesilofyt: Эх... Мы немного решили сокра...      1     0     1   \n114908  Что происходит со мной, когда в эфире #proacti...      1     0     0   \n114909  \"Любимая,я подарю тебе эту звезду...\" Имя како...      1     0     0   \n114910  @Ma_che_rie посмотри #непытайтесьпокинутьомск ...      1     0     0   \n\n        tfav  tst_count  tfolow  tfriends  listcount  \n0          0       8064     111        94          2  \n1          0         26      42        39          0  \n2          0        718      49       249          0  \n3          0      10628     207       200          0  \n4          0         35      17        34          0  \n...      ...        ...     ...       ...        ...  \n114906     0       1497      56        34          2  \n114907     0        692     225       210          0  \n114908     0       4905     448       193         13  \n114909     0        989     254       251          0  \n114910     0       1005     221       178          6  \n\n[226834 rows x 12 columns]",
      "text/html": "<div>\n<style scoped>\n    .dataframe tbody tr th:only-of-type {\n        vertical-align: middle;\n    }\n\n    .dataframe tbody tr th {\n        vertical-align: top;\n    }\n\n    .dataframe thead th {\n        text-align: right;\n    }\n</style>\n<table border=\"1\" class=\"dataframe\">\n  <thead>\n    <tr style=\"text-align: right;\">\n      <th></th>\n      <th>id</th>\n      <th>tdate</th>\n      <th>tname</th>\n      <th>ttext</th>\n      <th>ttype</th>\n      <th>trep</th>\n      <th>trtw</th>\n      <th>tfav</th>\n      <th>tst_count</th>\n      <th>tfolow</th>\n      <th>tfriends</th>\n      <th>listcount</th>\n    </tr>\n  </thead>\n  <tbody>\n    <tr>\n      <th>0</th>\n      <td>408906762813579264</td>\n      <td>1386325944</td>\n      <td>dugarchikbellko</td>\n      <td>на работе был полный пиддес :| и так каждое за...</td>\n      <td>-1</td>\n      <td>0</td>\n      <td>0</td>\n      <td>0</td>\n      <td>8064</td>\n      <td>111</td>\n      <td>94</td>\n      <td>2</td>\n    </tr>\n    <tr>\n      <th>1</th>\n      <td>408906818262687744</td>\n      <td>1386325957</td>\n      <td>nugemycejela</td>\n      <td>Коллеги сидят рубятся в Urban terror, а я из-з...</td>\n      <td>-1</td>\n      <td>0</td>\n      <td>0</td>\n      <td>0</td>\n      <td>26</td>\n      <td>42</td>\n      <td>39</td>\n      <td>0</td>\n    </tr>\n    <tr>\n      <th>2</th>\n      <td>408906858515398656</td>\n      <td>1386325966</td>\n      <td>4post21</td>\n      <td>@elina_4post как говорят обещаного три года жд...</td>\n      <td>-1</td>\n      <td>0</td>\n      <td>0</td>\n      <td>0</td>\n      <td>718</td>\n      <td>49</td>\n      <td>249</td>\n      <td>0</td>\n    </tr>\n    <tr>\n      <th>3</th>\n      <td>408906914437685248</td>\n      <td>1386325980</td>\n      <td>Poliwake</td>\n      <td>Желаю хорошего полёта и удачной посадки,я буду...</td>\n      <td>-1</td>\n      <td>0</td>\n      <td>0</td>\n      <td>0</td>\n      <td>10628</td>\n      <td>207</td>\n      <td>200</td>\n      <td>0</td>\n    </tr>\n    <tr>\n      <th>4</th>\n      <td>408906914723295232</td>\n      <td>1386325980</td>\n      <td>capyvixowe</td>\n      <td>Обновил за каким-то лешим surf, теперь не рабо...</td>\n      <td>-1</td>\n      <td>0</td>\n      <td>0</td>\n      <td>0</td>\n      <td>35</td>\n      <td>17</td>\n      <td>34</td>\n      <td>0</td>\n    </tr>\n    <tr>\n      <th>...</th>\n      <td>...</td>\n      <td>...</td>\n      <td>...</td>\n      <td>...</td>\n      <td>...</td>\n      <td>...</td>\n      <td>...</td>\n      <td>...</td>\n      <td>...</td>\n      <td>...</td>\n      <td>...</td>\n      <td>...</td>\n    </tr>\n    <tr>\n      <th>114906</th>\n      <td>411368729235054592</td>\n      <td>1386912922</td>\n      <td>diminlisenok</td>\n      <td>Спала в родительском доме, на своей кровати......</td>\n      <td>1</td>\n      <td>0</td>\n      <td>0</td>\n      <td>0</td>\n      <td>1497</td>\n      <td>56</td>\n      <td>34</td>\n      <td>2</td>\n    </tr>\n    <tr>\n      <th>114907</th>\n      <td>411368729424187392</td>\n      <td>1386912922</td>\n      <td>qilepocagotu</td>\n      <td>RT @jebesilofyt: Эх... Мы немного решили сокра...</td>\n      <td>1</td>\n      <td>0</td>\n      <td>1</td>\n      <td>0</td>\n      <td>692</td>\n      <td>225</td>\n      <td>210</td>\n      <td>0</td>\n    </tr>\n    <tr>\n      <th>114908</th>\n      <td>411368796537257984</td>\n      <td>1386912938</td>\n      <td>DennyChooo</td>\n      <td>Что происходит со мной, когда в эфире #proacti...</td>\n      <td>1</td>\n      <td>0</td>\n      <td>0</td>\n      <td>0</td>\n      <td>4905</td>\n      <td>448</td>\n      <td>193</td>\n      <td>13</td>\n    </tr>\n    <tr>\n      <th>114909</th>\n      <td>411368797447417856</td>\n      <td>1386912938</td>\n      <td>bedowabymir</td>\n      <td>\"Любимая,я подарю тебе эту звезду...\" Имя како...</td>\n      <td>1</td>\n      <td>0</td>\n      <td>0</td>\n      <td>0</td>\n      <td>989</td>\n      <td>254</td>\n      <td>251</td>\n      <td>0</td>\n    </tr>\n    <tr>\n      <th>114910</th>\n      <td>411368857035898880</td>\n      <td>1386912953</td>\n      <td>Prituljak_Sibir</td>\n      <td>@Ma_che_rie посмотри #непытайтесьпокинутьомск ...</td>\n      <td>1</td>\n      <td>0</td>\n      <td>0</td>\n      <td>0</td>\n      <td>1005</td>\n      <td>221</td>\n      <td>178</td>\n      <td>6</td>\n    </tr>\n  </tbody>\n</table>\n<p>226834 rows × 12 columns</p>\n</div>"
     },
     "execution_count": 88,
     "metadata": {},
     "output_type": "execute_result"
    }
   ],
   "source": [
    "# Загрузить корпус текстовых данных Рубцовой\n",
    "negative_data = pd.read_csv('./negative.csv', delimiter=';', header=None)\n",
    "positive_data = pd.read_csv('./positive.csv', delimiter=';', header=None)\n",
    "full_data = pd.concat([negative_data, positive_data], axis=0)\n",
    "full_data.columns = ['id', 'tdate', 'tname', 'ttext', 'ttype', 'trep', 'trtw', 'tfav', 'tst_count', 'tfolow',\n",
    "                     'tfriends','listcount']\n",
    "full_data"
   ]
  },
  {
   "cell_type": "code",
   "execution_count": 89,
   "metadata": {},
   "outputs": [
    {
     "data": {
      "text/plain": "id           False\ntdate        False\ntname        False\nttext        False\nttype        False\ntrep         False\ntrtw         False\ntfav         False\ntst_count    False\ntfolow       False\ntfriends     False\nlistcount    False\ndtype: bool"
     },
     "execution_count": 89,
     "metadata": {},
     "output_type": "execute_result"
    }
   ],
   "source": [
    "# Проверка пропущенных значениях\n",
    "full_data.isna().any()\n",
    "# их нет"
   ]
  },
  {
   "cell_type": "code",
   "execution_count": 90,
   "metadata": {},
   "outputs": [
    {
     "data": {
      "text/plain": "   ttype  trep  trtw  tfav  tst_count  tfolow  tfriends  listcount\n0      1     0     0     0          1       0         0          0",
      "text/html": "<div>\n<style scoped>\n    .dataframe tbody tr th:only-of-type {\n        vertical-align: middle;\n    }\n\n    .dataframe tbody tr th {\n        vertical-align: top;\n    }\n\n    .dataframe thead th {\n        text-align: right;\n    }\n</style>\n<table border=\"1\" class=\"dataframe\">\n  <thead>\n    <tr style=\"text-align: right;\">\n      <th></th>\n      <th>ttype</th>\n      <th>trep</th>\n      <th>trtw</th>\n      <th>tfav</th>\n      <th>tst_count</th>\n      <th>tfolow</th>\n      <th>tfriends</th>\n      <th>listcount</th>\n    </tr>\n  </thead>\n  <tbody>\n    <tr>\n      <th>0</th>\n      <td>1</td>\n      <td>0</td>\n      <td>0</td>\n      <td>0</td>\n      <td>1</td>\n      <td>0</td>\n      <td>0</td>\n      <td>0</td>\n    </tr>\n  </tbody>\n</table>\n</div>"
     },
     "execution_count": 90,
     "metadata": {},
     "output_type": "execute_result"
    }
   ],
   "source": [
    "# Вычислить среднюю, медиану и моду.\n",
    "# Средний\n",
    "full_data.mean(numeric_only=True)\n",
    "# Медиана\n",
    "full_data.median(numeric_only=True)\n",
    "# Мода\n",
    "full_data.loc[:, \"ttype\":].mode(numeric_only=True)\n"
   ]
  },
  {
   "cell_type": "markdown",
   "metadata": {},
   "source": [
    "2 Выполнить визуальный анализ текстового корпуса Рубцовой"
   ]
  },
  {
   "cell_type": "code",
   "execution_count": 91,
   "metadata": {},
   "outputs": [],
   "source": [
    "# Диаграмма рассеяния\n",
    "def scatterplot(x_data, y_data, x_label=\"\", y_label=\"\", title=\"\", color=\"r\", y_scaleLog=False, x_scaleLog=False):\n",
    "    # Создаем обект графика\n",
    "    _, ax = plt.subplots()\n",
    "\n",
    "    if y_scaleLog:\n",
    "        ax.set_yscale('log')\n",
    "    if x_scaleLog:\n",
    "        ax.set_xscale('log')\n",
    "\n",
    "    ax.scatter(x_data, y_data, s=10, color=color)\n",
    "    ax.set_title(title)\n",
    "    ax.set_xlabel(x_label)\n",
    "    ax.set_ylabel(y_label)\n",
    "\n",
    "\n",
    "# Линейная диаграмма\n",
    "def lineplot(x_data, y_data, x_label=\"\", y_label=\"\", title=\"\"):\n",
    "    _, ax = plt.subplots()\n",
    "\n",
    "    ax.plot(x_data, y_data, lw=2, color=\"r\")\n",
    "\n",
    "    ax.set_title(title)\n",
    "    ax.set_xlabel(x_label)\n",
    "    ax.set_ylabel(y_label)\n",
    "\n",
    "\n",
    "# Гистограмма\n",
    "def histogram(data, bins, range, x_label=\"\", y_label=\"\", title=\"\", y_scaleLog=True):\n",
    "    _, ax = plt.subplots()\n",
    "\n",
    "    if y_scaleLog:\n",
    "        ax.set_yscale('log')\n",
    "\n",
    "    ax.hist(data, bins=bins, range=range, color=\"r\")\n",
    "\n",
    "    ax.set_title(title)\n",
    "    ax.set_xlabel(x_label)\n",
    "    ax.set_ylabel(y_label)\n",
    "\n",
    "\n",
    "# Столбчатая диаграмма\n",
    "def barplot(x_data, y_data, x_label=\"\", y_label=\"\", title=\"\"):\n",
    "    _, ax = plt.subplots()\n",
    "\n",
    "    ax.bar(x_data, y_data, align='center', color=\"r\")\n",
    "\n",
    "    ax.set_title(title)\n",
    "    ax.set_xlabel(x_label)\n",
    "    ax.set_ylabel(y_label)\n"
   ]
  },
  {
   "cell_type": "code",
   "execution_count": 92,
   "metadata": {},
   "outputs": [
    {
     "data": {
      "text/plain": "<Figure size 640x480 with 1 Axes>",
      "image/png": "[encoded data removed]"
     },
     "metadata": {},
     "output_type": "display_data"
    }
   ],
   "source": [
    "scatterplot(x_data=full_data['tfolow'], y_data=full_data['tst_count'], x_label=\"Number of followers\",\n",
    "            y_label=\"Number of tweets\", title=\"scatterplot\",\n",
    "            color=\"r\", x_scaleLog=True, y_scaleLog=True)"
   ]
  },
  {
   "cell_type": "code",
   "execution_count": 93,
   "metadata": {},
   "outputs": [
    {
     "data": {
      "text/plain": "<Figure size 640x480 with 1 Axes>",
      "image/png": "[encoded data removed]"
     },
     "metadata": {},
     "output_type": "display_data"
    }
   ],
   "source": [
    "lineplot(x_data=full_data['listcount'], y_data=full_data['tst_count'], x_label='x', y_label='y')"
   ]
  },
  {
   "cell_type": "code",
   "execution_count": 94,
   "metadata": {},
   "outputs": [
    {
     "data": {
      "text/plain": "<Figure size 640x480 with 1 Axes>",
      "image/png": "[encoded data removed]"
     },
     "metadata": {},
     "output_type": "display_data"
    }
   ],
   "source": [
    "histogram(full_data['tfriends'], bins=100, range=(0, 500), x_label='Number of friends', y_label='Frequency', title='histogram',\n",
    "          y_scaleLog=False)"
   ]
  },
  {
   "cell_type": "code",
   "execution_count": 95,
   "metadata": {},
   "outputs": [],
   "source": [
    "listNe = list(negative_data.shape)\n",
    "y1 = listNe[0]"
   ]
  },
  {
   "cell_type": "code",
   "execution_count": 96,
   "metadata": {},
   "outputs": [],
   "source": [
    "listPo = positive_data.shape\n",
    "y2 = listPo[0]"
   ]
  },
  {
   "cell_type": "code",
   "execution_count": 97,
   "metadata": {},
   "outputs": [
    {
     "data": {
      "text/plain": "<Figure size 640x480 with 1 Axes>",
      "image/png": "[encoded data removed]"
     },
     "metadata": {},
     "output_type": "display_data"
    }
   ],
   "source": [
    "barplot(['twtNegative count', 'twtPositive count'], [y1, y2], title='barplot')"
   ]
  },
  {
   "cell_type": "markdown",
   "metadata": {},
   "source": [
    "3. Скачать тональные словари\n"
   ]
  },
  {
   "cell_type": "markdown",
   "metadata": {},
   "source": [
    "RuSentiLex"
   ]
  },
  {
   "cell_type": "code",
   "execution_count": 98,
   "metadata": {},
   "outputs": [
    {
     "data": {
      "text/plain": "              word sentiment\n0            аборт  negative\n1       абортивный  negative\n2      абракадабра  negative\n3           абсурд  negative\n4      абсурдность  negative\n...            ...       ...\n16052         ярый  positive\n16053      ясность  positive\n16054        ясный  positive\n16055         ящур  negative\n16056      ящурный  negative\n\n[16057 rows x 2 columns]",
      "text/html": "<div>\n<style scoped>\n    .dataframe tbody tr th:only-of-type {\n        vertical-align: middle;\n    }\n\n    .dataframe tbody tr th {\n        vertical-align: top;\n    }\n\n    .dataframe thead th {\n        text-align: right;\n    }\n</style>\n<table border=\"1\" class=\"dataframe\">\n  <thead>\n    <tr style=\"text-align: right;\">\n      <th></th>\n      <th>word</th>\n      <th>sentiment</th>\n    </tr>\n  </thead>\n  <tbody>\n    <tr>\n      <th>0</th>\n      <td>аборт</td>\n      <td>negative</td>\n    </tr>\n    <tr>\n      <th>1</th>\n      <td>абортивный</td>\n      <td>negative</td>\n    </tr>\n    <tr>\n      <th>2</th>\n      <td>абракадабра</td>\n      <td>negative</td>\n    </tr>\n    <tr>\n      <th>3</th>\n      <td>абсурд</td>\n      <td>negative</td>\n    </tr>\n    <tr>\n      <th>4</th>\n      <td>абсурдность</td>\n      <td>negative</td>\n    </tr>\n    <tr>\n      <th>...</th>\n      <td>...</td>\n      <td>...</td>\n    </tr>\n    <tr>\n      <th>16052</th>\n      <td>ярый</td>\n      <td>positive</td>\n    </tr>\n    <tr>\n      <th>16053</th>\n      <td>ясность</td>\n      <td>positive</td>\n    </tr>\n    <tr>\n      <th>16054</th>\n      <td>ясный</td>\n      <td>positive</td>\n    </tr>\n    <tr>\n      <th>16055</th>\n      <td>ящур</td>\n      <td>negative</td>\n    </tr>\n    <tr>\n      <th>16056</th>\n      <td>ящурный</td>\n      <td>negative</td>\n    </tr>\n  </tbody>\n</table>\n<p>16057 rows × 2 columns</p>\n</div>"
     },
     "execution_count": 98,
     "metadata": {},
     "output_type": "execute_result"
    }
   ],
   "source": [
    "rusentilex_list = []\n",
    "with open('rusentilex_2017.txt', 'r', encoding='utf8') as fp:\n",
    "    lines = fp.readlines()[18:]\n",
    "    for i in range(len(lines)):\n",
    "        line = lines[i].split(', ')\n",
    "        rusentilex_list.append((line[0], line[3]))\n",
    "    # print(rusentilex_list)\n",
    "rusentilex_df = pd.DataFrame.from_records(rusentilex_list, columns=[\"word\", \"sentiment\"])\n",
    "rusentilex_df"
   ]
  },
  {
   "cell_type": "code",
   "execution_count": 99,
   "metadata": {},
   "outputs": [
    {
     "data": {
      "text/plain": "array(['negative', 'neutral', 'positive', 'positive/negative', 'postive',\n       'postitive', 'за что деньги', 'opinion\\n', 'negative opinion\\n',\n       'posititve', 'настроение то что нужный', 'fact\\n', 'пострадать',\n       'feeling\\n', 'posiive', 'negaitve', 'negative. fact\\n', 'расти',\n       'fact \\n'], dtype=object)"
     },
     "execution_count": 99,
     "metadata": {},
     "output_type": "execute_result"
    }
   ],
   "source": [
    "sentiment_list = rusentilex_df[\"sentiment\"].unique()\n",
    "sentiment_list"
   ]
  },
  {
   "cell_type": "code",
   "execution_count": 100,
   "metadata": {},
   "outputs": [
    {
     "data": {
      "text/plain": "              word  sentiment\n0            аборт         -1\n1       абортивный         -1\n2      абракадабра         -1\n3           абсурд         -1\n4      абсурдность         -1\n...            ...        ...\n16052         ярый          1\n16053      ясность          1\n16054        ясный          1\n16055         ящур         -1\n16056      ящурный         -1\n\n[13988 rows x 2 columns]",
      "text/html": "<div>\n<style scoped>\n    .dataframe tbody tr th:only-of-type {\n        vertical-align: middle;\n    }\n\n    .dataframe tbody tr th {\n        vertical-align: top;\n    }\n\n    .dataframe thead th {\n        text-align: right;\n    }\n</style>\n<table border=\"1\" class=\"dataframe\">\n  <thead>\n    <tr style=\"text-align: right;\">\n      <th></th>\n      <th>word</th>\n      <th>sentiment</th>\n    </tr>\n  </thead>\n  <tbody>\n    <tr>\n      <th>0</th>\n      <td>аборт</td>\n      <td>-1</td>\n    </tr>\n    <tr>\n      <th>1</th>\n      <td>абортивный</td>\n      <td>-1</td>\n    </tr>\n    <tr>\n      <th>2</th>\n      <td>абракадабра</td>\n      <td>-1</td>\n    </tr>\n    <tr>\n      <th>3</th>\n      <td>абсурд</td>\n      <td>-1</td>\n    </tr>\n    <tr>\n      <th>4</th>\n      <td>абсурдность</td>\n      <td>-1</td>\n    </tr>\n    <tr>\n      <th>...</th>\n      <td>...</td>\n      <td>...</td>\n    </tr>\n    <tr>\n      <th>16052</th>\n      <td>ярый</td>\n      <td>1</td>\n    </tr>\n    <tr>\n      <th>16053</th>\n      <td>ясность</td>\n      <td>1</td>\n    </tr>\n    <tr>\n      <th>16054</th>\n      <td>ясный</td>\n      <td>1</td>\n    </tr>\n    <tr>\n      <th>16055</th>\n      <td>ящур</td>\n      <td>-1</td>\n    </tr>\n    <tr>\n      <th>16056</th>\n      <td>ящурный</td>\n      <td>-1</td>\n    </tr>\n  </tbody>\n</table>\n<p>13988 rows × 2 columns</p>\n</div>"
     },
     "execution_count": 100,
     "metadata": {},
     "output_type": "execute_result"
    }
   ],
   "source": [
    "# удалить экземпляры со смешанной оценкой\n",
    "for i in sentiment_list:\n",
    "    if i not in [\"positive\", \"negative\"]:\n",
    "        rusentilex_df = rusentilex_df.drop(rusentilex_df[rusentilex_df.sentiment == i].index)\n",
    "\n",
    "# преобразовать категориальную переменную в число\n",
    "encoder = {\"sentiment\": {\"positive\": 1, \"negative\": -1}}\n",
    "rusentilex_df = rusentilex_df.replace(encoder)\n",
    "rusentilex_df"
   ]
  },
  {
   "cell_type": "markdown",
   "metadata": {},
   "source": [
    "WordNetAffect"
   ]
  },
  {
   "cell_type": "code",
   "execution_count": 101,
   "metadata": {},
   "outputs": [
    {
     "data": {
      "text/plain": "                word  sentiment\n0             алчный         -1\n1     корыстолюбивый         -1\n2             жадный         -1\n3       раздражающий         -1\n4         навязчивый         -1\n...              ...        ...\n2310       невиданно          1\n2311     великолепно          1\n2312         страшно          1\n2313          ужасно          1\n2314     превосходно          1\n\n[2315 rows x 2 columns]",
      "text/html": "<div>\n<style scoped>\n    .dataframe tbody tr th:only-of-type {\n        vertical-align: middle;\n    }\n\n    .dataframe tbody tr th {\n        vertical-align: top;\n    }\n\n    .dataframe thead th {\n        text-align: right;\n    }\n</style>\n<table border=\"1\" class=\"dataframe\">\n  <thead>\n    <tr style=\"text-align: right;\">\n      <th></th>\n      <th>word</th>\n      <th>sentiment</th>\n    </tr>\n  </thead>\n  <tbody>\n    <tr>\n      <th>0</th>\n      <td>алчный</td>\n      <td>-1</td>\n    </tr>\n    <tr>\n      <th>1</th>\n      <td>корыстолюбивый</td>\n      <td>-1</td>\n    </tr>\n    <tr>\n      <th>2</th>\n      <td>жадный</td>\n      <td>-1</td>\n    </tr>\n    <tr>\n      <th>3</th>\n      <td>раздражающий</td>\n      <td>-1</td>\n    </tr>\n    <tr>\n      <th>4</th>\n      <td>навязчивый</td>\n      <td>-1</td>\n    </tr>\n    <tr>\n      <th>...</th>\n      <td>...</td>\n      <td>...</td>\n    </tr>\n    <tr>\n      <th>2310</th>\n      <td>невиданно</td>\n      <td>1</td>\n    </tr>\n    <tr>\n      <th>2311</th>\n      <td>великолепно</td>\n      <td>1</td>\n    </tr>\n    <tr>\n      <th>2312</th>\n      <td>страшно</td>\n      <td>1</td>\n    </tr>\n    <tr>\n      <th>2313</th>\n      <td>ужасно</td>\n      <td>1</td>\n    </tr>\n    <tr>\n      <th>2314</th>\n      <td>превосходно</td>\n      <td>1</td>\n    </tr>\n  </tbody>\n</table>\n<p>2315 rows × 2 columns</p>\n</div>"
     },
     "execution_count": 101,
     "metadata": {},
     "output_type": "execute_result"
    }
   ],
   "source": [
    "# загрузить словарь WordNetAffect\n",
    "import re\n",
    "\n",
    "wna_list = []\n",
    "for file_name in [\"anger\", \"disgust\", \"fear\", \"sadness\", \"joy\", \"surprise\"]:\n",
    "    f = open(file_name + \".txt\", \"r\", encoding=\"utf8\")\n",
    "    text = f.read()\n",
    "    word_list = re.findall(\"[а-яА-Яё]+\", text)\n",
    "\n",
    "    if file_name in [\"anger\", \"disgust\", \"fear\", \"sadness\"]:\n",
    "        word_list = [(word, -1) for word in word_list]\n",
    "    else:\n",
    "        word_list = [(word, 1) for word in word_list]\n",
    "\n",
    "    wna_list += word_list\n",
    "\n",
    "wna_df = pd.DataFrame.from_records(wna_list, columns=[\"word\", \"sentiment\"])\n",
    "wna_df"
   ]
  },
  {
   "cell_type": "code",
   "execution_count": 102,
   "metadata": {},
   "outputs": [
    {
     "data": {
      "text/plain": "           word  sentiment\n0        абажур          0\n1        абажур         -1\n2      абориген         -1\n3      абориген         -1\n4      абориген          0\n...         ...        ...\n26765      яшин          0\n26766      ящик          0\n26767      ящик          0\n26768      ящик          0\n26769      ящик          0\n\n[26770 rows x 2 columns]",
      "text/html": "<div>\n<style scoped>\n    .dataframe tbody tr th:only-of-type {\n        vertical-align: middle;\n    }\n\n    .dataframe tbody tr th {\n        vertical-align: top;\n    }\n\n    .dataframe thead th {\n        text-align: right;\n    }\n</style>\n<table border=\"1\" class=\"dataframe\">\n  <thead>\n    <tr style=\"text-align: right;\">\n      <th></th>\n      <th>word</th>\n      <th>sentiment</th>\n    </tr>\n  </thead>\n  <tbody>\n    <tr>\n      <th>0</th>\n      <td>абажур</td>\n      <td>0</td>\n    </tr>\n    <tr>\n      <th>1</th>\n      <td>абажур</td>\n      <td>-1</td>\n    </tr>\n    <tr>\n      <th>2</th>\n      <td>абориген</td>\n      <td>-1</td>\n    </tr>\n    <tr>\n      <th>3</th>\n      <td>абориген</td>\n      <td>-1</td>\n    </tr>\n    <tr>\n      <th>4</th>\n      <td>абориген</td>\n      <td>0</td>\n    </tr>\n    <tr>\n      <th>...</th>\n      <td>...</td>\n      <td>...</td>\n    </tr>\n    <tr>\n      <th>26765</th>\n      <td>яшин</td>\n      <td>0</td>\n    </tr>\n    <tr>\n      <th>26766</th>\n      <td>ящик</td>\n      <td>0</td>\n    </tr>\n    <tr>\n      <th>26767</th>\n      <td>ящик</td>\n      <td>0</td>\n    </tr>\n    <tr>\n      <th>26768</th>\n      <td>ящик</td>\n      <td>0</td>\n    </tr>\n    <tr>\n      <th>26769</th>\n      <td>ящик</td>\n      <td>0</td>\n    </tr>\n  </tbody>\n</table>\n<p>26770 rows × 2 columns</p>\n</div>"
     },
     "execution_count": 102,
     "metadata": {},
     "output_type": "execute_result"
    }
   ],
   "source": [
    "linis_df = pd.read_excel(\"liniscrowd.xlsx\")\n",
    "linis_df.columns = [\"word\", \"sentiment\"]\n",
    "linis_df"
   ]
  },
  {
   "cell_type": "code",
   "execution_count": 103,
   "metadata": {},
   "outputs": [
    {
     "data": {
      "text/plain": "array([ 0, -1, -2,  1,  2], dtype=int64)"
     },
     "execution_count": 103,
     "metadata": {},
     "output_type": "execute_result"
    }
   ],
   "source": [
    "linis_sentiment = linis_df['sentiment'].unique()\n",
    "linis_sentiment"
   ]
  },
  {
   "cell_type": "code",
   "execution_count": 104,
   "metadata": {},
   "outputs": [
    {
     "data": {
      "text/plain": "             word  sentiment\n1          абажур         -1\n2        абориген         -1\n3        абориген         -1\n7           аборт         -1\n10     абортивный         -1\n...           ...        ...\n26748      ярость         -1\n26751        ярый         -1\n26752        ярый          1\n26755     ясность          1\n26759       ясный         -1\n\n[9544 rows x 2 columns]",
      "text/html": "<div>\n<style scoped>\n    .dataframe tbody tr th:only-of-type {\n        vertical-align: middle;\n    }\n\n    .dataframe tbody tr th {\n        vertical-align: top;\n    }\n\n    .dataframe thead th {\n        text-align: right;\n    }\n</style>\n<table border=\"1\" class=\"dataframe\">\n  <thead>\n    <tr style=\"text-align: right;\">\n      <th></th>\n      <th>word</th>\n      <th>sentiment</th>\n    </tr>\n  </thead>\n  <tbody>\n    <tr>\n      <th>1</th>\n      <td>абажур</td>\n      <td>-1</td>\n    </tr>\n    <tr>\n      <th>2</th>\n      <td>абориген</td>\n      <td>-1</td>\n    </tr>\n    <tr>\n      <th>3</th>\n      <td>абориген</td>\n      <td>-1</td>\n    </tr>\n    <tr>\n      <th>7</th>\n      <td>аборт</td>\n      <td>-1</td>\n    </tr>\n    <tr>\n      <th>10</th>\n      <td>абортивный</td>\n      <td>-1</td>\n    </tr>\n    <tr>\n      <th>...</th>\n      <td>...</td>\n      <td>...</td>\n    </tr>\n    <tr>\n      <th>26748</th>\n      <td>ярость</td>\n      <td>-1</td>\n    </tr>\n    <tr>\n      <th>26751</th>\n      <td>ярый</td>\n      <td>-1</td>\n    </tr>\n    <tr>\n      <th>26752</th>\n      <td>ярый</td>\n      <td>1</td>\n    </tr>\n    <tr>\n      <th>26755</th>\n      <td>ясность</td>\n      <td>1</td>\n    </tr>\n    <tr>\n      <th>26759</th>\n      <td>ясный</td>\n      <td>-1</td>\n    </tr>\n  </tbody>\n</table>\n<p>9544 rows × 2 columns</p>\n</div>"
     },
     "execution_count": 104,
     "metadata": {},
     "output_type": "execute_result"
    }
   ],
   "source": [
    "for i in linis_sentiment:\n",
    "    if i not in [1, -1]:\n",
    "        linis_df = linis_df.drop(linis_df[linis_df.sentiment == i].index)\n",
    "linis_df"
   ]
  },
  {
   "cell_type": "code",
   "execution_count": 69,
   "metadata": {},
   "outputs": [],
   "source": [
    "linis_df = linis_df.groupby('word').agg('min').reset_index()"
   ]
  },
  {
   "cell_type": "code",
   "execution_count": 105,
   "metadata": {},
   "outputs": [
    {
     "data": {
      "text/plain": "             word  sentiment\n1          абажур         -1\n2        абориген         -1\n3        абориген         -1\n7           аборт         -1\n10     абортивный         -1\n...           ...        ...\n26748      ярость         -1\n26751        ярый         -1\n26752        ярый          1\n26755     ясность          1\n26759       ясный         -1\n\n[9544 rows x 2 columns]",
      "text/html": "<div>\n<style scoped>\n    .dataframe tbody tr th:only-of-type {\n        vertical-align: middle;\n    }\n\n    .dataframe tbody tr th {\n        vertical-align: top;\n    }\n\n    .dataframe thead th {\n        text-align: right;\n    }\n</style>\n<table border=\"1\" class=\"dataframe\">\n  <thead>\n    <tr style=\"text-align: right;\">\n      <th></th>\n      <th>word</th>\n      <th>sentiment</th>\n    </tr>\n  </thead>\n  <tbody>\n    <tr>\n      <th>1</th>\n      <td>абажур</td>\n      <td>-1</td>\n    </tr>\n    <tr>\n      <th>2</th>\n      <td>абориген</td>\n      <td>-1</td>\n    </tr>\n    <tr>\n      <th>3</th>\n      <td>абориген</td>\n      <td>-1</td>\n    </tr>\n    <tr>\n      <th>7</th>\n      <td>аборт</td>\n      <td>-1</td>\n    </tr>\n    <tr>\n      <th>10</th>\n      <td>абортивный</td>\n      <td>-1</td>\n    </tr>\n    <tr>\n      <th>...</th>\n      <td>...</td>\n      <td>...</td>\n    </tr>\n    <tr>\n      <th>26748</th>\n      <td>ярость</td>\n      <td>-1</td>\n    </tr>\n    <tr>\n      <th>26751</th>\n      <td>ярый</td>\n      <td>-1</td>\n    </tr>\n    <tr>\n      <th>26752</th>\n      <td>ярый</td>\n      <td>1</td>\n    </tr>\n    <tr>\n      <th>26755</th>\n      <td>ясность</td>\n      <td>1</td>\n    </tr>\n    <tr>\n      <th>26759</th>\n      <td>ясный</td>\n      <td>-1</td>\n    </tr>\n  </tbody>\n</table>\n<p>9544 rows × 2 columns</p>\n</div>"
     },
     "execution_count": 105,
     "metadata": {},
     "output_type": "execute_result"
    }
   ],
   "source": [
    "linis_df"
   ]
  },
  {
   "cell_type": "code",
   "execution_count": 106,
   "metadata": {},
   "outputs": [
    {
     "data": {
      "text/plain": "              word  sentiment\n0            аборт         -1\n1       абортивный         -1\n2      абракадабра         -1\n3           абсурд         -1\n4      абсурдность         -1\n...            ...        ...\n25835  великолепно          1\n25837       ужасно          1\n25838  изумительно          1\n25841        дивно          1\n25844      страшно          1\n\n[15863 rows x 2 columns]",
      "text/html": "<div>\n<style scoped>\n    .dataframe tbody tr th:only-of-type {\n        vertical-align: middle;\n    }\n\n    .dataframe tbody tr th {\n        vertical-align: top;\n    }\n\n    .dataframe thead th {\n        text-align: right;\n    }\n</style>\n<table border=\"1\" class=\"dataframe\">\n  <thead>\n    <tr style=\"text-align: right;\">\n      <th></th>\n      <th>word</th>\n      <th>sentiment</th>\n    </tr>\n  </thead>\n  <tbody>\n    <tr>\n      <th>0</th>\n      <td>аборт</td>\n      <td>-1</td>\n    </tr>\n    <tr>\n      <th>1</th>\n      <td>абортивный</td>\n      <td>-1</td>\n    </tr>\n    <tr>\n      <th>2</th>\n      <td>абракадабра</td>\n      <td>-1</td>\n    </tr>\n    <tr>\n      <th>3</th>\n      <td>абсурд</td>\n      <td>-1</td>\n    </tr>\n    <tr>\n      <th>4</th>\n      <td>абсурдность</td>\n      <td>-1</td>\n    </tr>\n    <tr>\n      <th>...</th>\n      <td>...</td>\n      <td>...</td>\n    </tr>\n    <tr>\n      <th>25835</th>\n      <td>великолепно</td>\n      <td>1</td>\n    </tr>\n    <tr>\n      <th>25837</th>\n      <td>ужасно</td>\n      <td>1</td>\n    </tr>\n    <tr>\n      <th>25838</th>\n      <td>изумительно</td>\n      <td>1</td>\n    </tr>\n    <tr>\n      <th>25841</th>\n      <td>дивно</td>\n      <td>1</td>\n    </tr>\n    <tr>\n      <th>25844</th>\n      <td>страшно</td>\n      <td>1</td>\n    </tr>\n  </tbody>\n</table>\n<p>15863 rows × 2 columns</p>\n</div>"
     },
     "execution_count": 106,
     "metadata": {},
     "output_type": "execute_result"
    }
   ],
   "source": [
    "sentiment_dict = pd.concat([rusentilex_df, linis_df, wna_df], ignore_index=True).drop_duplicates()\n",
    "sentiment_dict"
   ]
  },
  {
   "cell_type": "code",
   "execution_count": 107,
   "metadata": {},
   "outputs": [],
   "source": [
    "# функция предобработки текста\n",
    "import pymorphy2\n",
    "from nltk.corpus import stopwords\n",
    "\n",
    "patterns = \"[A-Za-z0-9!#$%&'()*+,./:;<=>?@[\\]^_`{|}~—\\\"\\-]+\"\n",
    "stopwords_ru = stopwords.words(\"russian\")\n",
    "morph = pymorphy2.MorphAnalyzer()\n",
    "\n",
    "\n",
    "def text_preprocess(raw_text):\n",
    "    raw_text = re.sub(patterns, ' ', raw_text)\n",
    "    tokens = []\n",
    "    for token in raw_text.split():\n",
    "        token = token.lower()\n",
    "        if token not in stopwords_ru:\n",
    "            token = token.strip()\n",
    "            token = morph.normal_forms(token)[0]\n",
    "\n",
    "            tokens.append(token)\n",
    "    return \" \".join(tokens)"
   ]
  },
  {
   "cell_type": "code",
   "execution_count": 108,
   "outputs": [
    {
     "data": {
      "text/plain": "                                                    ttext  ttype\n0       на работе был полный пиддес :| и так каждое за...     -1\n1       Коллеги сидят рубятся в Urban terror, а я из-з...     -1\n2       @elina_4post как говорят обещаного три года жд...     -1\n3       Желаю хорошего полёта и удачной посадки,я буду...     -1\n4       Обновил за каким-то лешим surf, теперь не рабо...     -1\n...                                                   ...    ...\n114906  Спала в родительском доме, на своей кровати......      1\n114907  RT @jebesilofyt: Эх... Мы немного решили сокра...      1\n114908  Что происходит со мной, когда в эфире #proacti...      1\n114909  \"Любимая,я подарю тебе эту звезду...\" Имя како...      1\n114910  @Ma_che_rie посмотри #непытайтесьпокинутьомск ...      1\n\n[226834 rows x 2 columns]",
      "text/html": "<div>\n<style scoped>\n    .dataframe tbody tr th:only-of-type {\n        vertical-align: middle;\n    }\n\n    .dataframe tbody tr th {\n        vertical-align: top;\n    }\n\n    .dataframe thead th {\n        text-align: right;\n    }\n</style>\n<table border=\"1\" class=\"dataframe\">\n  <thead>\n    <tr style=\"text-align: right;\">\n      <th></th>\n      <th>ttext</th>\n      <th>ttype</th>\n    </tr>\n  </thead>\n  <tbody>\n    <tr>\n      <th>0</th>\n      <td>на работе был полный пиддес :| и так каждое за...</td>\n      <td>-1</td>\n    </tr>\n    <tr>\n      <th>1</th>\n      <td>Коллеги сидят рубятся в Urban terror, а я из-з...</td>\n      <td>-1</td>\n    </tr>\n    <tr>\n      <th>2</th>\n      <td>@elina_4post как говорят обещаного три года жд...</td>\n      <td>-1</td>\n    </tr>\n    <tr>\n      <th>3</th>\n      <td>Желаю хорошего полёта и удачной посадки,я буду...</td>\n      <td>-1</td>\n    </tr>\n    <tr>\n      <th>4</th>\n      <td>Обновил за каким-то лешим surf, теперь не рабо...</td>\n      <td>-1</td>\n    </tr>\n    <tr>\n      <th>...</th>\n      <td>...</td>\n      <td>...</td>\n    </tr>\n    <tr>\n      <th>114906</th>\n      <td>Спала в родительском доме, на своей кровати......</td>\n      <td>1</td>\n    </tr>\n    <tr>\n      <th>114907</th>\n      <td>RT @jebesilofyt: Эх... Мы немного решили сокра...</td>\n      <td>1</td>\n    </tr>\n    <tr>\n      <th>114908</th>\n      <td>Что происходит со мной, когда в эфире #proacti...</td>\n      <td>1</td>\n    </tr>\n    <tr>\n      <th>114909</th>\n      <td>\"Любимая,я подарю тебе эту звезду...\" Имя како...</td>\n      <td>1</td>\n    </tr>\n    <tr>\n      <th>114910</th>\n      <td>@Ma_che_rie посмотри #непытайтесьпокинутьомск ...</td>\n      <td>1</td>\n    </tr>\n  </tbody>\n</table>\n<p>226834 rows × 2 columns</p>\n</div>"
     },
     "execution_count": 108,
     "metadata": {},
     "output_type": "execute_result"
    }
   ],
   "source": [
    "full_data.drop(['id', 'tdate', 'tname', 'trep', 'trtw', 'tfav', 'tst_count', 'tfolow', 'tfriends', 'listcount'], axis=1,\n",
    "               inplace=True)\n",
    "full_data"
   ],
   "metadata": {
    "collapsed": false
   }
  },
  {
   "cell_type": "code",
   "execution_count": 109,
   "outputs": [
    {
     "data": {
      "text/plain": "                                                  ttext  ttype\n0     @noliquid Гм-гм. Все понял. Значит, я не ошибс...     -1\n1     Мой блендер постирал бы лучше, чем наша стирал...      1\n2     как дальше жить? как дальше быть? как мне любо...     -1\n3     и последняя, Горохова, светленькая..чем-то на ...     -1\n4     RT @AlenaMeow1D: Не надо так((((( http://t.co/...     -1\n...                                                 ...    ...\n4995  @MaxsYakovenko уууу.если это конфета.то я ее х...      1\n4996  @DanilaF1re я не знаю, что постить q.q\\nМожно ...      1\n4997  “@Aleks_SPb: Докатились((((\\nПолитиком года в ...     -1\n4998  @skochdopol12 через тебе, взагалі-то (((але мо...     -1\n4999  Даже на 11 см каблуках я ниже Олега :( ну блин...     -1\n\n[5000 rows x 2 columns]",
      "text/html": "<div>\n<style scoped>\n    .dataframe tbody tr th:only-of-type {\n        vertical-align: middle;\n    }\n\n    .dataframe tbody tr th {\n        vertical-align: top;\n    }\n\n    .dataframe thead th {\n        text-align: right;\n    }\n</style>\n<table border=\"1\" class=\"dataframe\">\n  <thead>\n    <tr style=\"text-align: right;\">\n      <th></th>\n      <th>ttext</th>\n      <th>ttype</th>\n    </tr>\n  </thead>\n  <tbody>\n    <tr>\n      <th>0</th>\n      <td>@noliquid Гм-гм. Все понял. Значит, я не ошибс...</td>\n      <td>-1</td>\n    </tr>\n    <tr>\n      <th>1</th>\n      <td>Мой блендер постирал бы лучше, чем наша стирал...</td>\n      <td>1</td>\n    </tr>\n    <tr>\n      <th>2</th>\n      <td>как дальше жить? как дальше быть? как мне любо...</td>\n      <td>-1</td>\n    </tr>\n    <tr>\n      <th>3</th>\n      <td>и последняя, Горохова, светленькая..чем-то на ...</td>\n      <td>-1</td>\n    </tr>\n    <tr>\n      <th>4</th>\n      <td>RT @AlenaMeow1D: Не надо так((((( http://t.co/...</td>\n      <td>-1</td>\n    </tr>\n    <tr>\n      <th>...</th>\n      <td>...</td>\n      <td>...</td>\n    </tr>\n    <tr>\n      <th>4995</th>\n      <td>@MaxsYakovenko уууу.если это конфета.то я ее х...</td>\n      <td>1</td>\n    </tr>\n    <tr>\n      <th>4996</th>\n      <td>@DanilaF1re я не знаю, что постить q.q\\nМожно ...</td>\n      <td>1</td>\n    </tr>\n    <tr>\n      <th>4997</th>\n      <td>“@Aleks_SPb: Докатились((((\\nПолитиком года в ...</td>\n      <td>-1</td>\n    </tr>\n    <tr>\n      <th>4998</th>\n      <td>@skochdopol12 через тебе, взагалі-то (((але мо...</td>\n      <td>-1</td>\n    </tr>\n    <tr>\n      <th>4999</th>\n      <td>Даже на 11 см каблуках я ниже Олега :( ну блин...</td>\n      <td>-1</td>\n    </tr>\n  </tbody>\n</table>\n<p>5000 rows × 2 columns</p>\n</div>"
     },
     "execution_count": 109,
     "metadata": {},
     "output_type": "execute_result"
    }
   ],
   "source": [
    "# отделить сообщения от набора данных\n",
    "split_data = full_data.sample(5000)\n",
    "split_data = split_data.reset_index(drop=True)\n",
    "split_data"
   ],
   "metadata": {
    "collapsed": false
   }
  },
  {
   "cell_type": "code",
   "execution_count": 110,
   "outputs": [],
   "source": [
    "split_data['clean_text'] = split_data['ttext'].map(text_preprocess)"
   ],
   "metadata": {
    "collapsed": false
   }
  },
  {
   "cell_type": "code",
   "execution_count": 111,
   "outputs": [
    {
     "data": {
      "text/plain": "0       гм гм понять значит ошибиться очень очень грус...\n1       блендер постирать наш стиральный машинка новый...\n2       далёкий жить далёкий любовь твой забыть скучат...\n3       последний горохов светленький ромкина юля похожий\n4                                                        \n                              ...                        \n4995      уууа это конфета хотеть похожий яблоко карамела\n4996                 знать постить просто картинка музыка\n4997    “ докатиться политик год питер лидировать рыжи...\n4998                        ты взагалі але мама довольный\n4999                   смотреть каблук ниже олег блин что\nName: clean_text, Length: 5000, dtype: object"
     },
     "execution_count": 111,
     "metadata": {},
     "output_type": "execute_result"
    }
   ],
   "source": [
    "split_data['clean_text']"
   ],
   "metadata": {
    "collapsed": false
   }
  },
  {
   "cell_type": "code",
   "execution_count": 112,
   "outputs": [],
   "source": [
    "split_data['tokens'] = split_data.apply(lambda row: word_tokenize(row['clean_text']), axis=1)"
   ],
   "metadata": {
    "collapsed": false
   }
  },
  {
   "cell_type": "code",
   "execution_count": 113,
   "outputs": [
    {
     "data": {
      "text/plain": "                                                  ttext  ttype  \\\n0     @noliquid Гм-гм. Все понял. Значит, я не ошибс...     -1   \n1     Мой блендер постирал бы лучше, чем наша стирал...      1   \n2     как дальше жить? как дальше быть? как мне любо...     -1   \n3     и последняя, Горохова, светленькая..чем-то на ...     -1   \n4     RT @AlenaMeow1D: Не надо так((((( http://t.co/...     -1   \n...                                                 ...    ...   \n4995  @MaxsYakovenko уууу.если это конфета.то я ее х...      1   \n4996  @DanilaF1re я не знаю, что постить q.q\\nМожно ...      1   \n4997  “@Aleks_SPb: Докатились((((\\nПолитиком года в ...     -1   \n4998  @skochdopol12 через тебе, взагалі-то (((але мо...     -1   \n4999  Даже на 11 см каблуках я ниже Олега :( ну блин...     -1   \n\n                                             clean_text  \\\n0     гм гм понять значит ошибиться очень очень грус...   \n1     блендер постирать наш стиральный машинка новый...   \n2     далёкий жить далёкий любовь твой забыть скучат...   \n3     последний горохов светленький ромкина юля похожий   \n4                                                         \n...                                                 ...   \n4995    уууа это конфета хотеть похожий яблоко карамела   \n4996               знать постить просто картинка музыка   \n4997  “ докатиться политик год питер лидировать рыжи...   \n4998                      ты взагалі але мама довольный   \n4999                 смотреть каблук ниже олег блин что   \n\n                                                 tokens  \n0     [гм, гм, понять, значит, ошибиться, очень, оче...  \n1     [блендер, постирать, наш, стиральный, машинка,...  \n2     [далёкий, жить, далёкий, любовь, твой, забыть,...  \n3     [последний, горохов, светленький, ромкина, юля...  \n4                                                    []  \n...                                                 ...  \n4995  [уууа, это, конфета, хотеть, похожий, яблоко, ...  \n4996         [знать, постить, просто, картинка, музыка]  \n4997  [“, докатиться, политик, год, питер, лидироват...  \n4998                [ты, взагалі, але, мама, довольный]  \n4999          [смотреть, каблук, ниже, олег, блин, что]  \n\n[5000 rows x 4 columns]",
      "text/html": "<div>\n<style scoped>\n    .dataframe tbody tr th:only-of-type {\n        vertical-align: middle;\n    }\n\n    .dataframe tbody tr th {\n        vertical-align: top;\n    }\n\n    .dataframe thead th {\n        text-align: right;\n    }\n</style>\n<table border=\"1\" class=\"dataframe\">\n  <thead>\n    <tr style=\"text-align: right;\">\n      <th></th>\n      <th>ttext</th>\n      <th>ttype</th>\n      <th>clean_text</th>\n      <th>tokens</th>\n    </tr>\n  </thead>\n  <tbody>\n    <tr>\n      <th>0</th>\n      <td>@noliquid Гм-гм. Все понял. Значит, я не ошибс...</td>\n      <td>-1</td>\n      <td>гм гм понять значит ошибиться очень очень грус...</td>\n      <td>[гм, гм, понять, значит, ошибиться, очень, оче...</td>\n    </tr>\n    <tr>\n      <th>1</th>\n      <td>Мой блендер постирал бы лучше, чем наша стирал...</td>\n      <td>1</td>\n      <td>блендер постирать наш стиральный машинка новый...</td>\n      <td>[блендер, постирать, наш, стиральный, машинка,...</td>\n    </tr>\n    <tr>\n      <th>2</th>\n      <td>как дальше жить? как дальше быть? как мне любо...</td>\n      <td>-1</td>\n      <td>далёкий жить далёкий любовь твой забыть скучат...</td>\n      <td>[далёкий, жить, далёкий, любовь, твой, забыть,...</td>\n    </tr>\n    <tr>\n      <th>3</th>\n      <td>и последняя, Горохова, светленькая..чем-то на ...</td>\n      <td>-1</td>\n      <td>последний горохов светленький ромкина юля похожий</td>\n      <td>[последний, горохов, светленький, ромкина, юля...</td>\n    </tr>\n    <tr>\n      <th>4</th>\n      <td>RT @AlenaMeow1D: Не надо так((((( http://t.co/...</td>\n      <td>-1</td>\n      <td></td>\n      <td>[]</td>\n    </tr>\n    <tr>\n      <th>...</th>\n      <td>...</td>\n      <td>...</td>\n      <td>...</td>\n      <td>...</td>\n    </tr>\n    <tr>\n      <th>4995</th>\n      <td>@MaxsYakovenko уууу.если это конфета.то я ее х...</td>\n      <td>1</td>\n      <td>уууа это конфета хотеть похожий яблоко карамела</td>\n      <td>[уууа, это, конфета, хотеть, похожий, яблоко, ...</td>\n    </tr>\n    <tr>\n      <th>4996</th>\n      <td>@DanilaF1re я не знаю, что постить q.q\\nМожно ...</td>\n      <td>1</td>\n      <td>знать постить просто картинка музыка</td>\n      <td>[знать, постить, просто, картинка, музыка]</td>\n    </tr>\n    <tr>\n      <th>4997</th>\n      <td>“@Aleks_SPb: Докатились((((\\nПолитиком года в ...</td>\n      <td>-1</td>\n      <td>“ докатиться политик год питер лидировать рыжи...</td>\n      <td>[“, докатиться, политик, год, питер, лидироват...</td>\n    </tr>\n    <tr>\n      <th>4998</th>\n      <td>@skochdopol12 через тебе, взагалі-то (((але мо...</td>\n      <td>-1</td>\n      <td>ты взагалі але мама довольный</td>\n      <td>[ты, взагалі, але, мама, довольный]</td>\n    </tr>\n    <tr>\n      <th>4999</th>\n      <td>Даже на 11 см каблуках я ниже Олега :( ну блин...</td>\n      <td>-1</td>\n      <td>смотреть каблук ниже олег блин что</td>\n      <td>[смотреть, каблук, ниже, олег, блин, что]</td>\n    </tr>\n  </tbody>\n</table>\n<p>5000 rows × 4 columns</p>\n</div>"
     },
     "execution_count": 113,
     "metadata": {},
     "output_type": "execute_result"
    }
   ],
   "source": [
    "split_data"
   ],
   "metadata": {
    "collapsed": false
   }
  },
  {
   "cell_type": "code",
   "execution_count": 115,
   "outputs": [
    {
     "data": {
      "text/plain": "                                                  ttext  ttype  \\\n0     @noliquid Гм-гм. Все понял. Значит, я не ошибс...     -1   \n1     Мой блендер постирал бы лучше, чем наша стирал...      1   \n2     как дальше жить? как дальше быть? как мне любо...     -1   \n3     и последняя, Горохова, светленькая..чем-то на ...     -1   \n4     @teryash это было давно и не правда ахаха ну б...     -1   \n...                                                 ...    ...   \n4987  @MaxsYakovenko уууу.если это конфета.то я ее х...      1   \n4988  @DanilaF1re я не знаю, что постить q.q\\nМожно ...      1   \n4989  “@Aleks_SPb: Докатились((((\\nПолитиком года в ...     -1   \n4990  @skochdopol12 через тебе, взагалі-то (((але мо...     -1   \n4991  Даже на 11 см каблуках я ниже Олега :( ну блин...     -1   \n\n                                             clean_text  \\\n0     гм гм понять значит ошибиться очень очень грус...   \n1     блендер постирать наш стиральный машинка новый...   \n2     далёкий жить далёкий любовь твой забыть скучат...   \n3     последний горохов светленький ромкина юля похожий   \n4     это давно правда ахах блин каждый сериал боль ...   \n...                                                 ...   \n4987    уууа это конфета хотеть похожий яблоко карамела   \n4988               знать постить просто картинка музыка   \n4989  “ докатиться политик год питер лидировать рыжи...   \n4990                      ты взагалі але мама довольный   \n4991                 смотреть каблук ниже олег блин что   \n\n                                                 tokens  \n0     [гм, гм, понять, значит, ошибиться, очень, оче...  \n1     [блендер, постирать, наш, стиральный, машинка,...  \n2     [далёкий, жить, далёкий, любовь, твой, забыть,...  \n3     [последний, горохов, светленький, ромкина, юля...  \n4     [это, давно, правда, ахах, блин, каждый, сериа...  \n...                                                 ...  \n4987  [уууа, это, конфета, хотеть, похожий, яблоко, ...  \n4988         [знать, постить, просто, картинка, музыка]  \n4989  [“, докатиться, политик, год, питер, лидироват...  \n4990                [ты, взагалі, але, мама, довольный]  \n4991          [смотреть, каблук, ниже, олег, блин, что]  \n\n[4992 rows x 4 columns]",
      "text/html": "<div>\n<style scoped>\n    .dataframe tbody tr th:only-of-type {\n        vertical-align: middle;\n    }\n\n    .dataframe tbody tr th {\n        vertical-align: top;\n    }\n\n    .dataframe thead th {\n        text-align: right;\n    }\n</style>\n<table border=\"1\" class=\"dataframe\">\n  <thead>\n    <tr style=\"text-align: right;\">\n      <th></th>\n      <th>ttext</th>\n      <th>ttype</th>\n      <th>clean_text</th>\n      <th>tokens</th>\n    </tr>\n  </thead>\n  <tbody>\n    <tr>\n      <th>0</th>\n      <td>@noliquid Гм-гм. Все понял. Значит, я не ошибс...</td>\n      <td>-1</td>\n      <td>гм гм понять значит ошибиться очень очень грус...</td>\n      <td>[гм, гм, понять, значит, ошибиться, очень, оче...</td>\n    </tr>\n    <tr>\n      <th>1</th>\n      <td>Мой блендер постирал бы лучше, чем наша стирал...</td>\n      <td>1</td>\n      <td>блендер постирать наш стиральный машинка новый...</td>\n      <td>[блендер, постирать, наш, стиральный, машинка,...</td>\n    </tr>\n    <tr>\n      <th>2</th>\n      <td>как дальше жить? как дальше быть? как мне любо...</td>\n      <td>-1</td>\n      <td>далёкий жить далёкий любовь твой забыть скучат...</td>\n      <td>[далёкий, жить, далёкий, любовь, твой, забыть,...</td>\n    </tr>\n    <tr>\n      <th>3</th>\n      <td>и последняя, Горохова, светленькая..чем-то на ...</td>\n      <td>-1</td>\n      <td>последний горохов светленький ромкина юля похожий</td>\n      <td>[последний, горохов, светленький, ромкина, юля...</td>\n    </tr>\n    <tr>\n      <th>4</th>\n      <td>@teryash это было давно и не правда ахаха ну б...</td>\n      <td>-1</td>\n      <td>это давно правда ахах блин каждый сериал боль ...</td>\n      <td>[это, давно, правда, ахах, блин, каждый, сериа...</td>\n    </tr>\n    <tr>\n      <th>...</th>\n      <td>...</td>\n      <td>...</td>\n      <td>...</td>\n      <td>...</td>\n    </tr>\n    <tr>\n      <th>4987</th>\n      <td>@MaxsYakovenko уууу.если это конфета.то я ее х...</td>\n      <td>1</td>\n      <td>уууа это конфета хотеть похожий яблоко карамела</td>\n      <td>[уууа, это, конфета, хотеть, похожий, яблоко, ...</td>\n    </tr>\n    <tr>\n      <th>4988</th>\n      <td>@DanilaF1re я не знаю, что постить q.q\\nМожно ...</td>\n      <td>1</td>\n      <td>знать постить просто картинка музыка</td>\n      <td>[знать, постить, просто, картинка, музыка]</td>\n    </tr>\n    <tr>\n      <th>4989</th>\n      <td>“@Aleks_SPb: Докатились((((\\nПолитиком года в ...</td>\n      <td>-1</td>\n      <td>“ докатиться политик год питер лидировать рыжи...</td>\n      <td>[“, докатиться, политик, год, питер, лидироват...</td>\n    </tr>\n    <tr>\n      <th>4990</th>\n      <td>@skochdopol12 через тебе, взагалі-то (((але мо...</td>\n      <td>-1</td>\n      <td>ты взагалі але мама довольный</td>\n      <td>[ты, взагалі, але, мама, довольный]</td>\n    </tr>\n    <tr>\n      <th>4991</th>\n      <td>Даже на 11 см каблуках я ниже Олега :( ну блин...</td>\n      <td>-1</td>\n      <td>смотреть каблук ниже олег блин что</td>\n      <td>[смотреть, каблук, ниже, олег, блин, что]</td>\n    </tr>\n  </tbody>\n</table>\n<p>4992 rows × 4 columns</p>\n</div>"
     },
     "execution_count": 115,
     "metadata": {},
     "output_type": "execute_result"
    }
   ],
   "source": [
    "split_data.drop(split_data[split_data['clean_text'] == ''].index, inplace=True)\n",
    "split_data = split_data.reset_index(drop=True)\n",
    "split_data"
   ],
   "metadata": {
    "collapsed": false
   }
  },
  {
   "cell_type": "code",
   "execution_count": 117,
   "outputs": [],
   "source": [
    "# создать список сентимента сообщения\n",
    "\n",
    "def sentiment_of_word(word):\n",
    "    result = sentiment_dict.loc[sentiment_dict['word'] == word]\n",
    "    if len(result) == 0:\n",
    "        return 0\n",
    "    else:\n",
    "        return result.iloc[0][\"sentiment\"]\n",
    "\n",
    "\n",
    "def sentiment_of_token(tokens):\n",
    "    return [sentiment_of_word(token) for token in tokens]"
   ],
   "metadata": {
    "collapsed": false
   }
  },
  {
   "cell_type": "code",
   "execution_count": 123,
   "outputs": [
    {
     "data": {
      "text/plain": "                                                  ttext  ttype  \\\n0     @noliquid Гм-гм. Все понял. Значит, я не ошибс...     -1   \n1     Мой блендер постирал бы лучше, чем наша стирал...      1   \n2     как дальше жить? как дальше быть? как мне любо...     -1   \n3     и последняя, Горохова, светленькая..чем-то на ...     -1   \n4     @teryash это было давно и не правда ахаха ну б...     -1   \n...                                                 ...    ...   \n4987  @MaxsYakovenko уууу.если это конфета.то я ее х...      1   \n4988  @DanilaF1re я не знаю, что постить q.q\\nМожно ...      1   \n4989  “@Aleks_SPb: Докатились((((\\nПолитиком года в ...     -1   \n4990  @skochdopol12 через тебе, взагалі-то (((але мо...     -1   \n4991  Даже на 11 см каблуках я ниже Олега :( ну блин...     -1   \n\n                                             clean_text  \\\n0     гм гм понять значит ошибиться очень очень грус...   \n1     блендер постирать наш стиральный машинка новый...   \n2     далёкий жить далёкий любовь твой забыть скучат...   \n3     последний горохов светленький ромкина юля похожий   \n4     это давно правда ахах блин каждый сериал боль ...   \n...                                                 ...   \n4987    уууа это конфета хотеть похожий яблоко карамела   \n4988               знать постить просто картинка музыка   \n4989  “ докатиться политик год питер лидировать рыжи...   \n4990                      ты взагалі але мама довольный   \n4991                 смотреть каблук ниже олег блин что   \n\n                                                 tokens  \\\n0     [гм, гм, понять, значит, ошибиться, очень, оче...   \n1     [блендер, постирать, наш, стиральный, машинка,...   \n2     [далёкий, жить, далёкий, любовь, твой, забыть,...   \n3     [последний, горохов, светленький, ромкина, юля...   \n4     [это, давно, правда, ахах, блин, каждый, сериа...   \n...                                                 ...   \n4987  [уууа, это, конфета, хотеть, похожий, яблоко, ...   \n4988         [знать, постить, просто, картинка, музыка]   \n4989  [“, докатиться, политик, год, питер, лидироват...   \n4990                [ты, взагалі, але, мама, довольный]   \n4991          [смотреть, каблук, ниже, олег, блин, что]   \n\n                                             sentiments  \n0         [0, 0, 1, 0, -1, 0, 0, -1, 0, 0, -1, 0, 1, 0]  \n1                                 [0, 0, 1, 0, 1, 1, 0]  \n2                   [0, 0, 0, 1, 0, 0, -1, 1, 1, 1, -1]  \n3                                    [0, 0, 1, 0, 0, 0]  \n4                      [0, 0, 0, 0, -1, 0, 0, -1, 0, 0]  \n...                                                 ...  \n4987                              [0, 0, 0, 0, 0, 0, 0]  \n4988                                    [0, 0, 0, 0, 0]  \n4989  [0, 0, 0, 0, 0, 0, 0, 0, 0, 0, 1, 0, -1, 0, 1, 1]  \n4990                                    [0, 0, 0, 0, 1]  \n4991                                [0, 0, 0, 0, -1, 0]  \n\n[4992 rows x 5 columns]",
      "text/html": "<div>\n<style scoped>\n    .dataframe tbody tr th:only-of-type {\n        vertical-align: middle;\n    }\n\n    .dataframe tbody tr th {\n        vertical-align: top;\n    }\n\n    .dataframe thead th {\n        text-align: right;\n    }\n</style>\n<table border=\"1\" class=\"dataframe\">\n  <thead>\n    <tr style=\"text-align: right;\">\n      <th></th>\n      <th>ttext</th>\n      <th>ttype</th>\n      <th>clean_text</th>\n      <th>tokens</th>\n      <th>sentiments</th>\n    </tr>\n  </thead>\n  <tbody>\n    <tr>\n      <th>0</th>\n      <td>@noliquid Гм-гм. Все понял. Значит, я не ошибс...</td>\n      <td>-1</td>\n      <td>гм гм понять значит ошибиться очень очень грус...</td>\n      <td>[гм, гм, понять, значит, ошибиться, очень, оче...</td>\n      <td>[0, 0, 1, 0, -1, 0, 0, -1, 0, 0, -1, 0, 1, 0]</td>\n    </tr>\n    <tr>\n      <th>1</th>\n      <td>Мой блендер постирал бы лучше, чем наша стирал...</td>\n      <td>1</td>\n      <td>блендер постирать наш стиральный машинка новый...</td>\n      <td>[блендер, постирать, наш, стиральный, машинка,...</td>\n      <td>[0, 0, 1, 0, 1, 1, 0]</td>\n    </tr>\n    <tr>\n      <th>2</th>\n      <td>как дальше жить? как дальше быть? как мне любо...</td>\n      <td>-1</td>\n      <td>далёкий жить далёкий любовь твой забыть скучат...</td>\n      <td>[далёкий, жить, далёкий, любовь, твой, забыть,...</td>\n      <td>[0, 0, 0, 1, 0, 0, -1, 1, 1, 1, -1]</td>\n    </tr>\n    <tr>\n      <th>3</th>\n      <td>и последняя, Горохова, светленькая..чем-то на ...</td>\n      <td>-1</td>\n      <td>последний горохов светленький ромкина юля похожий</td>\n      <td>[последний, горохов, светленький, ромкина, юля...</td>\n      <td>[0, 0, 1, 0, 0, 0]</td>\n    </tr>\n    <tr>\n      <th>4</th>\n      <td>@teryash это было давно и не правда ахаха ну б...</td>\n      <td>-1</td>\n      <td>это давно правда ахах блин каждый сериал боль ...</td>\n      <td>[это, давно, правда, ахах, блин, каждый, сериа...</td>\n      <td>[0, 0, 0, 0, -1, 0, 0, -1, 0, 0]</td>\n    </tr>\n    <tr>\n      <th>...</th>\n      <td>...</td>\n      <td>...</td>\n      <td>...</td>\n      <td>...</td>\n      <td>...</td>\n    </tr>\n    <tr>\n      <th>4987</th>\n      <td>@MaxsYakovenko уууу.если это конфета.то я ее х...</td>\n      <td>1</td>\n      <td>уууа это конфета хотеть похожий яблоко карамела</td>\n      <td>[уууа, это, конфета, хотеть, похожий, яблоко, ...</td>\n      <td>[0, 0, 0, 0, 0, 0, 0]</td>\n    </tr>\n    <tr>\n      <th>4988</th>\n      <td>@DanilaF1re я не знаю, что постить q.q\\nМожно ...</td>\n      <td>1</td>\n      <td>знать постить просто картинка музыка</td>\n      <td>[знать, постить, просто, картинка, музыка]</td>\n      <td>[0, 0, 0, 0, 0]</td>\n    </tr>\n    <tr>\n      <th>4989</th>\n      <td>“@Aleks_SPb: Докатились((((\\nПолитиком года в ...</td>\n      <td>-1</td>\n      <td>“ докатиться политик год питер лидировать рыжи...</td>\n      <td>[“, докатиться, политик, год, питер, лидироват...</td>\n      <td>[0, 0, 0, 0, 0, 0, 0, 0, 0, 0, 1, 0, -1, 0, 1, 1]</td>\n    </tr>\n    <tr>\n      <th>4990</th>\n      <td>@skochdopol12 через тебе, взагалі-то (((але мо...</td>\n      <td>-1</td>\n      <td>ты взагалі але мама довольный</td>\n      <td>[ты, взагалі, але, мама, довольный]</td>\n      <td>[0, 0, 0, 0, 1]</td>\n    </tr>\n    <tr>\n      <th>4991</th>\n      <td>Даже на 11 см каблуках я ниже Олега :( ну блин...</td>\n      <td>-1</td>\n      <td>смотреть каблук ниже олег блин что</td>\n      <td>[смотреть, каблук, ниже, олег, блин, что]</td>\n      <td>[0, 0, 0, 0, -1, 0]</td>\n    </tr>\n  </tbody>\n</table>\n<p>4992 rows × 5 columns</p>\n</div>"
     },
     "execution_count": 123,
     "metadata": {},
     "output_type": "execute_result"
    }
   ],
   "source": [
    "split_data[\"sentiments\"] = split_data.apply(lambda row: sentiment_of_token(row[\"tokens\"]), axis=1)\n",
    "split_data"
   ],
   "metadata": {
    "collapsed": false
   }
  },
  {
   "cell_type": "code",
   "execution_count": 125,
   "outputs": [],
   "source": [
    "X_dict = pd.DataFrame()\n",
    "X_dict[\"positive\"] = split_data.apply(lambda row: sum(i == 1 for i in row[\"sentiments\"]), axis=1)\n",
    "X_dict[\"negative\"] = split_data.apply(lambda row: sum(i == -1 for i in row[\"sentiments\"]), axis=1)\n",
    "X_dict[\"max_positive\"] = split_data.apply(lambda row:max(row[\"sentiments\"]),axis=1)\n",
    "X_dict[\"max_negative\"] = split_data.apply(lambda row:min(row[\"sentiments\"]),axis=1)\n",
    "X_dict[\"avg_sentiments\"] = split_data.apply(lambda row: sum(row[\"sentiments\"]) / len(row[\"sentiments\"]), axis=1)"
   ],
   "metadata": {
    "collapsed": false
   }
  },
  {
   "cell_type": "code",
   "execution_count": 126,
   "outputs": [
    {
     "data": {
      "text/plain": "      positive  negative  max_positive  max_negative  avg_sentiments\n0            2         3             1            -1       -0.071429\n1            3         0             1             0        0.428571\n2            4         2             1            -1        0.181818\n3            1         0             1             0        0.166667\n4            0         2             0            -1       -0.200000\n...        ...       ...           ...           ...             ...\n4987         0         0             0             0        0.000000\n4988         0         0             0             0        0.000000\n4989         3         1             1            -1        0.125000\n4990         1         0             1             0        0.200000\n4991         0         1             0            -1       -0.166667\n\n[4992 rows x 5 columns]",
      "text/html": "<div>\n<style scoped>\n    .dataframe tbody tr th:only-of-type {\n        vertical-align: middle;\n    }\n\n    .dataframe tbody tr th {\n        vertical-align: top;\n    }\n\n    .dataframe thead th {\n        text-align: right;\n    }\n</style>\n<table border=\"1\" class=\"dataframe\">\n  <thead>\n    <tr style=\"text-align: right;\">\n      <th></th>\n      <th>positive</th>\n      <th>negative</th>\n      <th>max_positive</th>\n      <th>max_negative</th>\n      <th>avg_sentiments</th>\n    </tr>\n  </thead>\n  <tbody>\n    <tr>\n      <th>0</th>\n      <td>2</td>\n      <td>3</td>\n      <td>1</td>\n      <td>-1</td>\n      <td>-0.071429</td>\n    </tr>\n    <tr>\n      <th>1</th>\n      <td>3</td>\n      <td>0</td>\n      <td>1</td>\n      <td>0</td>\n      <td>0.428571</td>\n    </tr>\n    <tr>\n      <th>2</th>\n      <td>4</td>\n      <td>2</td>\n      <td>1</td>\n      <td>-1</td>\n      <td>0.181818</td>\n    </tr>\n    <tr>\n      <th>3</th>\n      <td>1</td>\n      <td>0</td>\n      <td>1</td>\n      <td>0</td>\n      <td>0.166667</td>\n    </tr>\n    <tr>\n      <th>4</th>\n      <td>0</td>\n      <td>2</td>\n      <td>0</td>\n      <td>-1</td>\n      <td>-0.200000</td>\n    </tr>\n    <tr>\n      <th>...</th>\n      <td>...</td>\n      <td>...</td>\n      <td>...</td>\n      <td>...</td>\n      <td>...</td>\n    </tr>\n    <tr>\n      <th>4987</th>\n      <td>0</td>\n      <td>0</td>\n      <td>0</td>\n      <td>0</td>\n      <td>0.000000</td>\n    </tr>\n    <tr>\n      <th>4988</th>\n      <td>0</td>\n      <td>0</td>\n      <td>0</td>\n      <td>0</td>\n      <td>0.000000</td>\n    </tr>\n    <tr>\n      <th>4989</th>\n      <td>3</td>\n      <td>1</td>\n      <td>1</td>\n      <td>-1</td>\n      <td>0.125000</td>\n    </tr>\n    <tr>\n      <th>4990</th>\n      <td>1</td>\n      <td>0</td>\n      <td>1</td>\n      <td>0</td>\n      <td>0.200000</td>\n    </tr>\n    <tr>\n      <th>4991</th>\n      <td>0</td>\n      <td>1</td>\n      <td>0</td>\n      <td>-1</td>\n      <td>-0.166667</td>\n    </tr>\n  </tbody>\n</table>\n<p>4992 rows × 5 columns</p>\n</div>"
     },
     "execution_count": 126,
     "metadata": {},
     "output_type": "execute_result"
    }
   ],
   "source": [
    "X_dict"
   ],
   "metadata": {
    "collapsed": false
   }
  },
  {
   "cell_type": "code",
   "execution_count": 128,
   "outputs": [],
   "source": [
    "split_data.to_csv(\"split_data_with_sentiments.csv\", index=False)"
   ],
   "metadata": {
    "collapsed": false
   }
  },
  {
   "cell_type": "code",
   "execution_count": 129,
   "outputs": [],
   "source": [
    "X_dict.to_csv(\"X_dict.csv\", index=False)"
   ],
   "metadata": {
    "collapsed": false
   }
  },
  {
   "cell_type": "markdown",
   "source": [
    "BOW"
   ],
   "metadata": {
    "collapsed": false
   }
  },
  {
   "cell_type": "code",
   "execution_count": 127,
   "outputs": [],
   "source": [
    "from sklearn.feature_extraction.text import CountVectorizer\n",
    "\n",
    "vectorizer = CountVectorizer()\n",
    "corpus = split_data[\"clean_text\"]\n",
    "X_bow = vectorizer.fit_transform(corpus).toarray()\n",
    "X_bow = pd.DataFrame(X_bow)\n",
    "X_bow.to_csv(\"X_bow.csv\", index=False)"
   ],
   "metadata": {
    "collapsed": false
   }
  },
  {
   "cell_type": "code",
   "execution_count": 130,
   "outputs": [
    {
     "data": {
      "text/plain": "(4992, 9549)"
     },
     "execution_count": 130,
     "metadata": {},
     "output_type": "execute_result"
    }
   ],
   "source": [
    "X_bow.shape"
   ],
   "metadata": {
    "collapsed": false
   }
  },
  {
   "cell_type": "markdown",
   "source": [
    "TFIDF"
   ],
   "metadata": {
    "collapsed": false
   }
  },
  {
   "cell_type": "code",
   "execution_count": 131,
   "outputs": [],
   "source": [
    "from sklearn.feature_extraction.text import TfidfVectorizer\n",
    "\n",
    "vectorizer = TfidfVectorizer()\n",
    "corpus = split_data[\"clean_text\"]\n",
    "X_tfidf = vectorizer.fit_transform(corpus).toarray()\n",
    "X_tfidf = pd.DataFrame(X_tfidf)\n",
    "X_tfidf.to_csv(\"X_tfidf.csv\", index=False)"
   ],
   "metadata": {
    "collapsed": false
   }
  },
  {
   "cell_type": "code",
   "execution_count": 132,
   "outputs": [
    {
     "data": {
      "text/plain": "(4992, 9549)"
     },
     "execution_count": 132,
     "metadata": {},
     "output_type": "execute_result"
    }
   ],
   "source": [
    "X_tfidf.shape"
   ],
   "metadata": {
    "collapsed": false
   }
  },
  {
   "cell_type": "code",
   "execution_count": null,
   "outputs": [],
   "source": [],
   "metadata": {
    "collapsed": false
   }
  }
 ],
 "metadata": {
  "kernelspec": {
   "display_name": "Python 3 (ipykernel)",
   "language": "python",
   "name": "python3"
  },
  "language_info": {
   "codemirror_mode": {
    "name": "ipython",
    "version": 3
   },
   "file_extension": ".py",
   "mimetype": "text/x-python",
   "name": "python",
   "nbconvert_exporter": "python",
   "pygments_lexer": "ipython3",
   "version": "3.9.15"
  },
  "vscode": {
   "interpreter": {
    "hash": "70b2b003f71a47789ef5253a9d2c8e5c80fab8c3caf439df4c585559942f6721"
   }
  }
 },
 "nbformat": 4,
 "nbformat_minor": 2
}
