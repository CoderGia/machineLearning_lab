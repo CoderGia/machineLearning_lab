{
 "cells": [
  {
   "cell_type": "code",
   "execution_count": 23,
   "metadata": {
    "collapsed": true
   },
   "outputs": [],
   "source": [
    "import pandas as pd"
   ]
  },
  {
   "cell_type": "code",
   "execution_count": 24,
   "outputs": [],
   "source": [
    "X_tfidf = pd.read_csv('X_tfidf.csv')\n",
    "split_data = pd.read_csv('split_data_with_sentiments.csv')"
   ],
   "metadata": {
    "collapsed": false
   }
  },
  {
   "cell_type": "code",
   "execution_count": 25,
   "outputs": [],
   "source": [
    "from sklearn.decomposition import PCA\n",
    "pca = PCA(n_components=5)\n",
    "X = pca.fit_transform(X_tfidf)\n",
    "y = split_data['ttype']"
   ],
   "metadata": {
    "collapsed": false
   }
  },
  {
   "cell_type": "code",
   "execution_count": 26,
   "outputs": [
    {
     "name": "stdout",
     "output_type": "stream",
     "text": [
      "(3993, 5)\n",
      "(999, 5)\n"
     ]
    }
   ],
   "source": [
    "from sklearn.model_selection import train_test_split\n",
    "X_train, X_test, y_train, y_test = train_test_split(X, y, test_size=0.2, random_state=42)\n",
    "print(X_train.shape)\n",
    "print(X_test.shape)"
   ],
   "metadata": {
    "collapsed": false
   }
  },
  {
   "cell_type": "code",
   "execution_count": 27,
   "outputs": [
    {
     "name": "stdout",
     "output_type": "stream",
     "text": [
      "              precision    recall  f1-score   support\n",
      "\n",
      "          -1       0.57      0.28      0.38       484\n",
      "           1       0.54      0.80      0.65       515\n",
      "\n",
      "    accuracy                           0.55       999\n",
      "   macro avg       0.56      0.54      0.51       999\n",
      "weighted avg       0.56      0.55      0.52       999\n",
      "\n",
      "roc-auc score: 0.540495867768595\n"
     ]
    }
   ],
   "source": [
    "from sklearn.linear_model import LogisticRegression\n",
    "from sklearn.metrics import classification_report\n",
    "from sklearn.metrics import roc_auc_score\n",
    "\n",
    "logis = LogisticRegression().fit(X_train,y_train)\n",
    "logis_pred = logis.predict(X_test)\n",
    "print(classification_report(y_test, logis_pred))\n",
    "print(\"roc-auc score:\",roc_auc_score(y_test, logis_pred))"
   ],
   "metadata": {
    "collapsed": false
   }
  },
  {
   "cell_type": "code",
   "execution_count": 28,
   "outputs": [
    {
     "name": "stdout",
     "output_type": "stream",
     "text": [
      "              precision    recall  f1-score   support\n",
      "\n",
      "          -1       0.58      0.27      0.37       484\n",
      "           1       0.54      0.81      0.65       515\n",
      "\n",
      "    accuracy                           0.55       999\n",
      "   macro avg       0.56      0.54      0.51       999\n",
      "weighted avg       0.56      0.55      0.52       999\n",
      "\n",
      "0.5432219369333227\n"
     ]
    }
   ],
   "source": [
    "from sklearn.svm import LinearSVC\n",
    "linearSVC= LinearSVC().fit(X_train, y_train)\n",
    "linearSVC_pred = linearSVC.predict(X_test)\n",
    "print(classification_report(y_test, linearSVC_pred))\n",
    "print(roc_auc_score(y_test, linearSVC_pred))"
   ],
   "metadata": {
    "collapsed": false
   }
  },
  {
   "cell_type": "code",
   "execution_count": 29,
   "outputs": [
    {
     "name": "stdout",
     "output_type": "stream",
     "text": [
      "              precision    recall  f1-score   support\n",
      "\n",
      "          -1       0.57      0.34      0.43       484\n",
      "           1       0.55      0.76      0.64       515\n",
      "\n",
      "    accuracy                           0.56       999\n",
      "   macro avg       0.56      0.55      0.53       999\n",
      "weighted avg       0.56      0.56      0.54       999\n",
      "\n",
      "0.5500040118751504\n"
     ]
    }
   ],
   "source": [
    "from sklearn.svm import SVC\n",
    "svc = SVC().fit(X_train, y_train)\n",
    "svc_pred = svc.predict(X_test)\n",
    "print(classification_report(y_test, svc_pred))\n",
    "print(roc_auc_score(y_test, svc_pred))"
   ],
   "metadata": {
    "collapsed": false
   }
  },
  {
   "cell_type": "code",
   "execution_count": 30,
   "outputs": [
    {
     "name": "stdout",
     "output_type": "stream",
     "text": [
      "              precision    recall  f1-score   support\n",
      "\n",
      "          -1       0.53      0.67      0.59       484\n",
      "           1       0.59      0.44      0.51       515\n",
      "\n",
      "    accuracy                           0.55       999\n",
      "   macro avg       0.56      0.56      0.55       999\n",
      "weighted avg       0.56      0.55      0.55       999\n",
      "\n",
      "0.5570408408890315\n"
     ]
    }
   ],
   "source": [
    "from sklearn.tree import DecisionTreeClassifier\n",
    "clf = DecisionTreeClassifier(criterion='entropy', max_depth=5)\n",
    "clf.fit(X_train, y_train)\n",
    "clf_pred = clf.predict(X_test)\n",
    "print(classification_report(y_test,clf_pred))\n",
    "print(roc_auc_score(y_test, clf_pred))"
   ],
   "metadata": {
    "collapsed": false
   }
  },
  {
   "cell_type": "code",
   "execution_count": 31,
   "outputs": [
    {
     "name": "stdout",
     "output_type": "stream",
     "text": [
      "              precision    recall  f1-score   support\n",
      "\n",
      "          -1       0.54      0.48      0.51       484\n",
      "           1       0.56      0.61      0.58       515\n",
      "\n",
      "    accuracy                           0.55       999\n",
      "   macro avg       0.55      0.55      0.54       999\n",
      "weighted avg       0.55      0.55      0.55       999\n",
      "\n",
      "0.5455568482708818\n"
     ]
    }
   ],
   "source": [
    "from sklearn.ensemble import RandomForestClassifier\n",
    "clf = RandomForestClassifier(max_depth=5, random_state=42).fit(X_train, y_train)\n",
    "clf_pred = clf.predict(X_test)\n",
    "print(classification_report(y_test, clf_pred))\n",
    "print(roc_auc_score(y_test, clf_pred))"
   ],
   "metadata": {
    "collapsed": false
   }
  },
  {
   "cell_type": "code",
   "execution_count": 32,
   "outputs": [
    {
     "name": "stdout",
     "output_type": "stream",
     "text": [
      "              precision    recall  f1-score   support\n",
      "\n",
      "          -1       0.51      0.53      0.52       484\n",
      "           1       0.55      0.53      0.54       515\n",
      "\n",
      "    accuracy                           0.53       999\n",
      "   macro avg       0.53      0.53      0.53       999\n",
      "weighted avg       0.53      0.53      0.53       999\n",
      "\n",
      "0.5296357217363395\n"
     ]
    }
   ],
   "source": [
    "from sklearn.neighbors import KNeighborsClassifier\n",
    "knc = KNeighborsClassifier(n_neighbors=3).fit(X_train, y_train)\n",
    "knc_pred = knc.predict(X_test)\n",
    "print(classification_report(y_test, knc_pred))\n",
    "print(roc_auc_score(y_test, knc_pred))"
   ],
   "metadata": {
    "collapsed": false
   }
  },
  {
   "cell_type": "code",
   "execution_count": 33,
   "outputs": [
    {
     "name": "stdout",
     "output_type": "stream",
     "text": [
      "              precision    recall  f1-score   support\n",
      "\n",
      "          -1       0.54      0.15      0.23       484\n",
      "           1       0.52      0.88      0.66       515\n",
      "\n",
      "    accuracy                           0.53       999\n",
      "   macro avg       0.53      0.51      0.44       999\n",
      "weighted avg       0.53      0.53      0.45       999\n",
      "\n",
      "0.5141238064671427\n"
     ]
    }
   ],
   "source": [
    "from sklearn.naive_bayes import GaussianNB\n",
    "gauss = GaussianNB().fit(X_train, y_train)\n",
    "gauss_pred = gauss.predict(X_test)\n",
    "print(classification_report(y_test, gauss_pred))\n",
    "print(roc_auc_score(y_test, gauss_pred))"
   ],
   "metadata": {
    "collapsed": false
   }
  },
  {
   "cell_type": "code",
   "execution_count": 34,
   "outputs": [
    {
     "name": "stdout",
     "output_type": "stream",
     "text": [
      "Mean accuracy:  0.5582967737276354\n"
     ]
    }
   ],
   "source": [
    "from sklearn.model_selection import KFold\n",
    "\n",
    "# define number of splits for cross-validation\n",
    "k = 5\n",
    "\n",
    "# initialize k-fold cross-validation\n",
    "kf = KFold(n_splits=k, shuffle=True)\n",
    "\n",
    "# initialize a list to store the model's accuracy for each fold\n",
    "accuracies = []\n",
    "\n",
    "# loop over each fold\n",
    "for train_index, test_index in kf.split(X):\n",
    "    # split the data into training and testing sets for this fold\n",
    "    X_train, X_test = X[train_index], X[test_index]\n",
    "    y_train, y_test = y[train_index], y[test_index]\n",
    "\n",
    "    # initialize and train the model on the training set\n",
    "    model = RandomForestClassifier(max_depth=5, random_state=42)\n",
    "    model.fit(X_train, y_train)\n",
    "\n",
    "    # evaluate the model on the testing set and append the accuracy to the list\n",
    "    accuracy = model.score(X_test, y_test)\n",
    "    accuracies.append(accuracy)\n",
    "\n",
    "# compute the mean accuracy across all folds\n",
    "mean_accuracy = sum(accuracies) / len(accuracies)\n",
    "\n",
    "# print the mean accuracy\n",
    "print(\"Mean accuracy: \", mean_accuracy)"
   ],
   "metadata": {
    "collapsed": false
   }
  },
  {
   "cell_type": "code",
   "execution_count": 35,
   "outputs": [
    {
     "name": "stdout",
     "output_type": "stream",
     "text": [
      "              precision    recall  f1-score   support\n",
      "\n",
      "          -1       0.56      0.44      0.49       490\n",
      "           1       0.55      0.67      0.61       508\n",
      "\n",
      "    accuracy                           0.56       998\n",
      "   macro avg       0.56      0.56      0.55       998\n",
      "weighted avg       0.56      0.56      0.55       998\n",
      "\n",
      "Best parameters: {'criterion': 'entropy', 'max_depth': 5, 'min_samples_split': 2}\n",
      "Best score: 0.5548329522178412\n"
     ]
    }
   ],
   "source": [
    "from sklearn.model_selection import GridSearchCV\n",
    "# Define the hyperparameters to search over\n",
    "param = {'criterion': ['gini', 'entropy'], 'max_depth': [3, 4, 5, 6, 7], 'min_samples_split': [2, 3, 4, 5]}\n",
    "\n",
    "# Define the Decision Tree Classifier\n",
    "model2 = DecisionTreeClassifier(random_state=42)\n",
    "\n",
    "# Define the GridSearchCV object\n",
    "g_model2 = GridSearchCV(model2, param_grid=param,scoring='accuracy')\n",
    "\n",
    "g_model2.fit(X_train, y_train)\n",
    "g_model2_pred = g_model2.predict(X_test)\n",
    "\n",
    "print(classification_report(y_test,g_model2_pred))\n",
    "print(\"Best parameters:\", g_model2.best_params_)\n",
    "print(\"Best score:\", g_model2.best_score_)"
   ],
   "metadata": {
    "collapsed": false
   }
  },
  {
   "cell_type": "code",
   "execution_count": 35,
   "outputs": [],
   "source": [],
   "metadata": {
    "collapsed": false
   }
  }
 ],
 "metadata": {
  "kernelspec": {
   "display_name": "Python 3",
   "language": "python",
   "name": "python3"
  },
  "language_info": {
   "codemirror_mode": {
    "name": "ipython",
    "version": 2
   },
   "file_extension": ".py",
   "mimetype": "text/x-python",
   "name": "python",
   "nbconvert_exporter": "python",
   "pygments_lexer": "ipython2",
   "version": "2.7.6"
  }
 },
 "nbformat": 4,
 "nbformat_minor": 0
}
